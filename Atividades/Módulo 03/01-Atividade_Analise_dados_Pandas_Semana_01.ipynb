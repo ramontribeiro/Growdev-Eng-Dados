{
  "cells": [
    {
      "cell_type": "markdown",
      "metadata": {
        "id": "v8pFWwviib2C"
      },
      "source": [
        "![Growdev](https://www.growdev.com.br/assets/images/logo_growdev.png)"
      ]
    },
    {
      "cell_type": "markdown",
      "metadata": {
        "id": "6Tkl4_HxifXZ"
      },
      "source": [
        "![Formação Engenharia de Dados](https://d335luupugsy2.cloudfront.net/cms/files/524558/1707226566/$occu5m8t1op)"
      ]
    },
    {
      "cell_type": "markdown",
      "metadata": {
        "id": "ty7Bzyl1i9bN"
      },
      "source": [
        "Este material tem como objetivo incentivar a prática dos conteúdos estudados até o momento, e a pesquisa. Tenha em consideração que o exercício foi pensado para incentivar a prática dos conteúdos estudados até então, porém aprender a pesquisar faz parte do processo de aprendizagem.\n",
        "\n",
        "Fique tranquilo, faça os exercícios com calma, e boa prática!\n"
      ]
    },
    {
      "cell_type": "markdown",
      "metadata": {
        "id": "DU5-yCQwjx3V"
      },
      "source": [
        "#Orientações:\n",
        "\n",
        " - Faça uma copia deste arquivo\n",
        " - Após concluir os exercicios, suba seu exercicio para o GitHub e compartilhe o link no **google** Classroom\n"
      ]
    },
    {
      "cell_type": "markdown",
      "metadata": {
        "id": "jPJ5hyxa2cos"
      },
      "source": [
        "\n",
        "Utilize o dataset contido nesse [link](https://www.kaggle.com/datasets/upadorprofzs/testes), e responda as questões abaixo.\n",
        "\n",
        "O dataset contém dados estatísticos do IBGE relativos à escolaridade, renda entre outros campos avaliados pela  PNAD (Pesquisa Nacional por Amostra de Domicílios).\n",
        "\n",
        "Os dados podem representar informações relevantes e reveladoras sobre a distribuição de renda e possivelmente alguns indicadores sobre tais situações encontradas a partir dos dados."
      ]
    },
    {
      "cell_type": "code",
      "execution_count": 1,
      "metadata": {},
      "outputs": [],
      "source": [
        "import pandas as pd"
      ]
    },
    {
      "cell_type": "code",
      "execution_count": 2,
      "metadata": {},
      "outputs": [],
      "source": [
        "# A partir de uma URL (Jupyter ou Colab)\n",
        "url= \"/Users/ramon/Documents/01.ESTUDOS/01.6.DEV/04.GROWDEV/03-3ª Edição - Engenharia de dados/00- Growdev - Eng. Dados/Atividades/Módulo 03/dados/dados.csv\"\n",
        "\n",
        "dados_ibge = pd.read_csv(filepath_or_buffer=url, sep=\",\", index_col=False)\n",
        "\n",
        "# Setando duas casas para altura:\n",
        "dados_ibge['Altura'] = dados_ibge['Altura'].round(2)"
      ]
    },
    {
      "cell_type": "code",
      "execution_count": 3,
      "metadata": {},
      "outputs": [
        {
          "data": {
            "text/html": [
              "<div>\n",
              "<style scoped>\n",
              "    .dataframe tbody tr th:only-of-type {\n",
              "        vertical-align: middle;\n",
              "    }\n",
              "\n",
              "    .dataframe tbody tr th {\n",
              "        vertical-align: top;\n",
              "    }\n",
              "\n",
              "    .dataframe thead th {\n",
              "        text-align: right;\n",
              "    }\n",
              "</style>\n",
              "<table border=\"1\" class=\"dataframe\">\n",
              "  <thead>\n",
              "    <tr style=\"text-align: right;\">\n",
              "      <th></th>\n",
              "      <th>UF</th>\n",
              "      <th>Sexo</th>\n",
              "      <th>Idade</th>\n",
              "      <th>Cor</th>\n",
              "      <th>Anos de Estudo</th>\n",
              "      <th>Renda</th>\n",
              "      <th>Altura</th>\n",
              "    </tr>\n",
              "  </thead>\n",
              "  <tbody>\n",
              "    <tr>\n",
              "      <th>0</th>\n",
              "      <td>11</td>\n",
              "      <td>0</td>\n",
              "      <td>23</td>\n",
              "      <td>8</td>\n",
              "      <td>12</td>\n",
              "      <td>800</td>\n",
              "      <td>1.60</td>\n",
              "    </tr>\n",
              "    <tr>\n",
              "      <th>1</th>\n",
              "      <td>11</td>\n",
              "      <td>1</td>\n",
              "      <td>23</td>\n",
              "      <td>2</td>\n",
              "      <td>12</td>\n",
              "      <td>1150</td>\n",
              "      <td>1.74</td>\n",
              "    </tr>\n",
              "    <tr>\n",
              "      <th>2</th>\n",
              "      <td>11</td>\n",
              "      <td>1</td>\n",
              "      <td>35</td>\n",
              "      <td>8</td>\n",
              "      <td>15</td>\n",
              "      <td>880</td>\n",
              "      <td>1.76</td>\n",
              "    </tr>\n",
              "    <tr>\n",
              "      <th>3</th>\n",
              "      <td>11</td>\n",
              "      <td>0</td>\n",
              "      <td>46</td>\n",
              "      <td>2</td>\n",
              "      <td>6</td>\n",
              "      <td>3500</td>\n",
              "      <td>1.78</td>\n",
              "    </tr>\n",
              "    <tr>\n",
              "      <th>4</th>\n",
              "      <td>11</td>\n",
              "      <td>1</td>\n",
              "      <td>47</td>\n",
              "      <td>8</td>\n",
              "      <td>9</td>\n",
              "      <td>150</td>\n",
              "      <td>1.69</td>\n",
              "    </tr>\n",
              "  </tbody>\n",
              "</table>\n",
              "</div>"
            ],
            "text/plain": [
              "   UF  Sexo  Idade  Cor  Anos de Estudo  Renda  Altura\n",
              "0  11     0     23    8              12    800    1.60\n",
              "1  11     1     23    2              12   1150    1.74\n",
              "2  11     1     35    8              15    880    1.76\n",
              "3  11     0     46    2               6   3500    1.78\n",
              "4  11     1     47    8               9    150    1.69"
            ]
          },
          "execution_count": 3,
          "metadata": {},
          "output_type": "execute_result"
        }
      ],
      "source": [
        "# Teste do DF:\n",
        "dados_ibge.head()"
      ]
    },
    {
      "cell_type": "markdown",
      "metadata": {
        "id": "EzT810tnlmfE"
      },
      "source": [
        "#Exercícios"
      ]
    },
    {
      "cell_type": "markdown",
      "metadata": {
        "id": "sYEv1vohLu34"
      },
      "source": [
        "Qual a quantidade de pessoas nas seguintes faixas etárias\n",
        "- 20 anos ou menos\n",
        "- 21 a 35 anos\n",
        "- 36 a 50 anos\n",
        "- 51 a 65 anos\n",
        "- maiores de 65 anos\n",
        "\n"
      ]
    },
    {
      "cell_type": "code",
      "execution_count": 4,
      "metadata": {
        "id": "0drCl45SMELV"
      },
      "outputs": [
        {
          "name": "stdout",
          "output_type": "stream",
          "text": [
            "{'20 anos ou menos': 764, '21 a 35 anos': 20654, '36 a 50 anos': 31770, '51 a 65 anos': 20006, 'maiores de 65 anos': 3646}\n"
          ]
        }
      ],
      "source": [
        "faixas_etarias = [\n",
        "    (dados_ibge['Idade'] <= 20, '20 anos ou menos'),\n",
        "    ((dados_ibge['Idade'] > 20) & (dados_ibge['Idade'] <= 35), '21 a 35 anos'),\n",
        "    ((dados_ibge['Idade'] > 35) & (dados_ibge['Idade'] <= 50), '36 a 50 anos'),\n",
        "    ((dados_ibge['Idade'] > 50) & (dados_ibge['Idade'] <= 65), '51 a 65 anos'),\n",
        "    (dados_ibge['Idade'] > 65, 'maiores de 65 anos')\n",
        "]\n",
        "\n",
        "quantidade_pessoas = {descricao: len(dados_ibge[condicao]) for condicao, descricao in faixas_etarias}\n",
        "print(quantidade_pessoas)"
      ]
    },
    {
      "cell_type": "markdown",
      "metadata": {
        "id": "6y7X1dc-MFr1"
      },
      "source": [
        "Qual é a média de escolaridade em cada faixa etária?\n"
      ]
    },
    {
      "cell_type": "code",
      "execution_count": 5,
      "metadata": {
        "id": "6X6M5T7EMb-G"
      },
      "outputs": [
        {
          "name": "stdout",
          "output_type": "stream",
          "text": [
            "{'20 anos ou menos': 9.69502617801047, '21 a 35 anos': 10.813111261741067, '36 a 50 anos': 9.764274472773057, '51 a 65 anos': 8.267319804058783, 'maiores de 65 anos': 5.842292923752057}\n"
          ]
        }
      ],
      "source": [
        "media_escolaridade = {descricao: dados_ibge[condicao]['Anos de Estudo'].mean() for condicao, descricao in faixas_etarias}\n",
        "print(media_escolaridade)"
      ]
    },
    {
      "cell_type": "markdown",
      "metadata": {
        "id": "FgEq2x_mMicx"
      },
      "source": [
        "Qual a UF que concentra a maior renda?\n"
      ]
    },
    {
      "cell_type": "code",
      "execution_count": 6,
      "metadata": {
        "id": "EFe-4pq8NGRf"
      },
      "outputs": [
        {
          "name": "stdout",
          "output_type": "stream",
          "text": [
            "Distrito Federal\n"
          ]
        }
      ],
      "source": [
        "uf_maior_renda = dados_ibge.groupby('UF')['Renda'].mean().idxmax()\n",
        "uf_maior_renda = 'Distrito Federal'\n",
        "print(uf_maior_renda)"
      ]
    },
    {
      "cell_type": "markdown",
      "metadata": {
        "id": "VFXayO6DNJ3F"
      },
      "source": [
        "Qual a renda média de pessoas pretas e brancas de homens e mulheres?\n"
      ]
    },
    {
      "cell_type": "code",
      "execution_count": 7,
      "metadata": {
        "id": "JUO0B9kWNcCX"
      },
      "outputs": [
        {
          "name": "stdout",
          "output_type": "stream",
          "text": [
            "Cor  Sexo\n",
            "2    0       2925.744435\n",
            "     1       2109.866750\n",
            "4    0       1603.861687\n",
            "     1       1134.596400\n",
            "Name: Renda, dtype: float64\n"
          ]
        }
      ],
      "source": [
        "renda_media_pb = dados_ibge[dados_ibge['Cor'].isin([2, 4])].groupby(['Cor', 'Sexo'])['Renda'].mean()\n",
        "print(renda_media_pb)"
      ]
    },
    {
      "cell_type": "markdown",
      "metadata": {
        "id": "aqaMxrGMNhQv"
      },
      "source": [
        "Qual a renda média concentrada em cada faixa etária?\n",
        "\n",
        "\n"
      ]
    },
    {
      "cell_type": "code",
      "execution_count": 8,
      "metadata": {
        "id": "yoT1FXJSzKwj"
      },
      "outputs": [
        {
          "name": "stdout",
          "output_type": "stream",
          "text": [
            "{'20 anos ou menos': 'R$ 985.35', '21 a 35 anos': 'R$ 1748.29', '36 a 50 anos': 'R$ 2113.76', '51 a 65 anos': 'R$ 2150.20', 'maiores de 65 anos': 'R$ 1831.23'}\n"
          ]
        }
      ],
      "source": [
        "renda_media_faixa_etaria = {descricao: dados_ibge[condicao]['Renda'].mean() for condicao, descricao in faixas_etarias}\n",
        "renda_media_faixa_etaria_formatada = {descricao: f'R$ {renda:.2f}' for descricao, renda in renda_media_faixa_etaria.items()}\n",
        "print(renda_media_faixa_etaria_formatada)"
      ]
    },
    {
      "cell_type": "markdown",
      "metadata": {
        "id": "jMjZzRxr29TF"
      },
      "source": [
        "Qual a renda média nas faixas de anos de estudo abaixo?\n",
        "- 2 anos ou menos\n",
        "- 3 a 6 anos\n",
        "- 7 a 10 anos\n",
        "- 10 a 12 anos\n",
        "- 13 anos ou mais\n"
      ]
    },
    {
      "cell_type": "code",
      "execution_count": 9,
      "metadata": {
        "id": "ZWpciLPN3Ckx"
      },
      "outputs": [
        {
          "name": "stdout",
          "output_type": "stream",
          "text": [
            "{'2 anos ou menos': 'R$ 747.10', '3 a 6 anos': 'R$ 1089.38', '7 a 10 anos': 'R$ 1370.89', '10 a 12 anos': 'R$ 1809.78', '13 anos ou mais': 'R$ 4434.41'}\n"
          ]
        }
      ],
      "source": [
        "faixas_estudo = [\n",
        "    (dados_ibge['Anos de Estudo'] <= 2, '2 anos ou menos'),\n",
        "    ((dados_ibge['Anos de Estudo'] >= 3) & (dados_ibge['Anos de Estudo'] <= 6), '3 a 6 anos'),\n",
        "    ((dados_ibge['Anos de Estudo'] >= 7) & (dados_ibge['Anos de Estudo'] <= 10), '7 a 10 anos'),\n",
        "    ((dados_ibge['Anos de Estudo'] >= 11) & (dados_ibge['Anos de Estudo'] <= 12), '10 a 12 anos'),\n",
        "    (dados_ibge['Anos de Estudo'] >= 13, '13 anos ou mais')\n",
        "]\n",
        "\n",
        "renda_media_estudo = {descricao: dados_ibge[condicao]['Renda'].mean() for condicao, descricao in faixas_estudo}\n",
        "renda_media_estudo_formatada = {descricao: f'R$ {renda:.2f}' for descricao, renda in renda_media_estudo.items()}\n",
        "print(renda_media_estudo_formatada)"
      ]
    },
    {
      "cell_type": "markdown",
      "metadata": {
        "id": "fDxIIqqS3DHs"
      },
      "source": [
        "Qual a escolaridade entre indígenas, para homens e mulheres?\n"
      ]
    },
    {
      "cell_type": "code",
      "execution_count": 10,
      "metadata": {
        "id": "M85a5qNt3E2y"
      },
      "outputs": [
        {
          "name": "stdout",
          "output_type": "stream",
          "text": [
            "Sexo\n",
            "0    7.875000\n",
            "1    9.108911\n",
            "Name: Anos de Estudo, dtype: float64\n"
          ]
        }
      ],
      "source": [
        "escolaridade_indigenas = dados_ibge[dados_ibge['Cor'] == 0].groupby('Sexo')['Anos de Estudo'].mean()\n",
        "print(escolaridade_indigenas)"
      ]
    },
    {
      "cell_type": "markdown",
      "metadata": {
        "id": "hgqYfhU33FtF"
      },
      "source": [
        "Qual a média de anos de estudo entre brancos e negros?\n"
      ]
    },
    {
      "cell_type": "code",
      "execution_count": 11,
      "metadata": {
        "id": "EK9X8wTZ3UdS"
      },
      "outputs": [
        {
          "name": "stdout",
          "output_type": "stream",
          "text": [
            "Cor\n",
            "2    10.490303\n",
            "4     8.861518\n",
            "Name: Anos de Estudo, dtype: float64\n"
          ]
        }
      ],
      "source": [
        "media_anos_estudo_bn = dados_ibge[dados_ibge['Cor'].isin([2, 4])].groupby('Cor')['Anos de Estudo'].mean()\n",
        "print(media_anos_estudo_bn)"
      ]
    },
    {
      "cell_type": "markdown",
      "metadata": {
        "id": "_ZjroKKB3WBx"
      },
      "source": [
        "Qual a média de anos de estudo e de renda para mulheres brancas, e para mulheres negras?"
      ]
    },
    {
      "cell_type": "code",
      "execution_count": 12,
      "metadata": {
        "id": "7dx7zW7M3Wau"
      },
      "outputs": [
        {
          "name": "stdout",
          "output_type": "stream",
          "text": [
            "     Anos de Estudo    Renda\n",
            "Cor                         \n",
            "2             11.30  2109.87\n",
            "4              9.52  1134.60\n"
          ]
        }
      ],
      "source": [
        "media_estudo_renda_mulheres_bn = dados_ibge[(dados_ibge['Cor'].isin([2, 4])) & (dados_ibge['Sexo'] == 1)].groupby('Cor').agg({'Anos de Estudo': 'mean', 'Renda': 'mean'})\n",
        "media_estudo_renda_mulheres_bn_formatada = media_estudo_renda_mulheres_bn.round(2)\n",
        "print(media_estudo_renda_mulheres_bn_formatada)"
      ]
    },
    {
      "cell_type": "markdown",
      "metadata": {
        "id": "sG2Kkkrd3X5V"
      },
      "source": [
        " Qual é a UF com maior média de escolaridade e qual a UF com maior média de renda?"
      ]
    },
    {
      "cell_type": "code",
      "execution_count": 13,
      "metadata": {
        "id": "imgwaOGk3YNq"
      },
      "outputs": [
        {
          "name": "stdout",
          "output_type": "stream",
          "text": [
            "UF com maior média de escolaridade: 53\n",
            "UF com maior média de renda: 53\n"
          ]
        }
      ],
      "source": [
        "uf_maior_escolaridade = dados_ibge.groupby('UF')['Anos de Estudo'].mean().idxmax()\n",
        "uf_maior_renda = dados_ibge.groupby('UF')['Renda'].mean().idxmax()\n",
        "print(f'UF com maior média de escolaridade: {uf_maior_escolaridade}')\n",
        "print(f'UF com maior média de renda: {uf_maior_renda}')"
      ]
    },
    {
      "cell_type": "markdown",
      "metadata": {
        "id": "72Oy_JJ_3Z7F"
      },
      "source": [
        "Elabore você uma pergunta sobre a base de dados e escreva o código para responder a pergunta."
      ]
    },
    {
      "cell_type": "code",
      "execution_count": 14,
      "metadata": {
        "id": "YZFVy7UM3aPC"
      },
      "outputs": [
        {
          "name": "stdout",
          "output_type": "stream",
          "text": [
            "{'20 anos ou menos': Sexo\n",
            "0    1.693656\n",
            "1    1.698065\n",
            "Name: Altura, dtype: float64, '21 a 35 anos': Sexo\n",
            "0    1.699178\n",
            "1    1.700430\n",
            "Name: Altura, dtype: float64, '36 a 50 anos': Sexo\n",
            "0    1.700214\n",
            "1    1.699513\n",
            "Name: Altura, dtype: float64, '51 a 65 anos': Sexo\n",
            "0    1.699071\n",
            "1    1.699113\n",
            "Name: Altura, dtype: float64, 'maiores de 65 anos': Sexo\n",
            "0    1.697614\n",
            "1    1.700465\n",
            "Name: Altura, dtype: float64}\n"
          ]
        }
      ],
      "source": [
        "altura_media = {descricao: dados_ibge[condicao].groupby('Sexo')['Altura'].mean() for condicao, descricao in faixas_etarias}\n",
        "print(altura_media)"
      ]
    }
  ],
  "metadata": {
    "colab": {
      "provenance": []
    },
    "kernelspec": {
      "display_name": "Python 3",
      "name": "python3"
    },
    "language_info": {
      "codemirror_mode": {
        "name": "ipython",
        "version": 3
      },
      "file_extension": ".py",
      "mimetype": "text/x-python",
      "name": "python",
      "nbconvert_exporter": "python",
      "pygments_lexer": "ipython3",
      "version": "3.11.7"
    }
  },
  "nbformat": 4,
  "nbformat_minor": 0
}
