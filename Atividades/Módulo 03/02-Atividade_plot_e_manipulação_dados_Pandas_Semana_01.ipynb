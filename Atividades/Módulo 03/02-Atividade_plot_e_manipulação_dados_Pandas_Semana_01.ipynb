{
  "cells": [
    {
      "cell_type": "markdown",
      "metadata": {
        "id": "v8pFWwviib2C"
      },
      "source": [
        "![Growdev](https://www.growdev.com.br/assets/images/logo_growdev.png)"
      ]
    },
    {
      "cell_type": "markdown",
      "metadata": {
        "id": "6Tkl4_HxifXZ"
      },
      "source": [
        "![Formação Engenharia de Dados](https://d335luupugsy2.cloudfront.net/cms/files/524558/1707226566/$occu5m8t1op)"
      ]
    },
    {
      "cell_type": "markdown",
      "metadata": {
        "id": "ty7Bzyl1i9bN"
      },
      "source": [
        "Este material tem como objetivo incentivar a prática dos conteúdos estudados até o momento, e a pesquisa. Tenha em consideração que o exercício foi pensado para incentivar a prática dos conteúdos estudados até então, porém aprender a pesquisar faz parte do processo de aprendizagem.\n",
        "\n",
        "Fique tranquilo, faça os exercícios com calma, e boa prática!\n"
      ]
    },
    {
      "cell_type": "markdown",
      "metadata": {
        "id": "DU5-yCQwjx3V"
      },
      "source": [
        "#Orientações:\n",
        "\n",
        " - Faça uma copia deste arquivo\n",
        " - Após concluir os exercicios, suba seu exercicio para o GitHub e compartilhe o link no **google** Classroom\n"
      ]
    },
    {
      "cell_type": "markdown",
      "metadata": {
        "id": "EzT810tnlmfE"
      },
      "source": [
        "#Exercícios pandas e plot"
      ]
    },
    {
      "cell_type": "markdown",
      "metadata": {
        "id": "jPJ5hyxa2cos"
      },
      "source": [
        "As questões a seguir utilizam como base o dataset de venda de jogos eletrônicos disponível no seguinte [link.](https://www.kaggle.com/code/rafa84miranda/vendas-de-jogos-de-videogames/data?select=vgsales.csv)"
      ]
    },
    {
      "cell_type": "markdown",
      "metadata": {
        "id": "sYEv1vohLu34"
      },
      "source": [
        "Os campos são:\n",
        "- Rank: posição no ranking de vendas\n",
        "- Name: nome do jogo\n",
        "- Platform: plataforma/console\n",
        "- Year: ano de lançamento\n",
        "- Genre: gênero\n",
        "- Publisher: empresa que publicou o jogo\n",
        "- NA_Sales: vendas na américa do norte (em milhões de dólares)\n",
        "- EU_Sales: vendas na europa (em milhões de dólares)\n",
        "- JP_Sales: vendas no japão (em milhões de dólares)\n",
        "- Other_Sales: outras vendas (em milhões de dólares)\n",
        "- Global_Sales: vendas globais (em milhões de dólares)\n"
      ]
    },
    {
      "cell_type": "code",
      "execution_count": 4,
      "metadata": {},
      "outputs": [],
      "source": [
        "\n",
        "import pandas as pd\n",
        "import numpy as np\n",
        "import matplotlib.pyplot as plt\n",
        "import seaborn as sns"
      ]
    },
    {
      "cell_type": "code",
      "execution_count": 5,
      "metadata": {},
      "outputs": [],
      "source": [
        "df_games = pd.read_csv('/Users/ramon/Documents/01.ESTUDOS/01.6.DEV/04.GROWDEV/03-3ª Edição - Engenharia de dados/00- Growdev - Eng. Dados/Atividades/Módulo 03/dados/vgsales.csv')"
      ]
    },
    {
      "cell_type": "code",
      "execution_count": 6,
      "metadata": {},
      "outputs": [
        {
          "data": {
            "text/html": [
              "<div>\n",
              "<style scoped>\n",
              "    .dataframe tbody tr th:only-of-type {\n",
              "        vertical-align: middle;\n",
              "    }\n",
              "\n",
              "    .dataframe tbody tr th {\n",
              "        vertical-align: top;\n",
              "    }\n",
              "\n",
              "    .dataframe thead th {\n",
              "        text-align: right;\n",
              "    }\n",
              "</style>\n",
              "<table border=\"1\" class=\"dataframe\">\n",
              "  <thead>\n",
              "    <tr style=\"text-align: right;\">\n",
              "      <th></th>\n",
              "      <th>Rank</th>\n",
              "      <th>Name</th>\n",
              "      <th>Platform</th>\n",
              "      <th>Year</th>\n",
              "      <th>Genre</th>\n",
              "      <th>Publisher</th>\n",
              "      <th>NA_Sales</th>\n",
              "      <th>EU_Sales</th>\n",
              "      <th>JP_Sales</th>\n",
              "      <th>Other_Sales</th>\n",
              "      <th>Global_Sales</th>\n",
              "    </tr>\n",
              "  </thead>\n",
              "  <tbody>\n",
              "    <tr>\n",
              "      <th>0</th>\n",
              "      <td>259</td>\n",
              "      <td>Asteroids</td>\n",
              "      <td>2600</td>\n",
              "      <td>1980</td>\n",
              "      <td>Shooter</td>\n",
              "      <td>Atari</td>\n",
              "      <td>4.00</td>\n",
              "      <td>0.26</td>\n",
              "      <td>0.0</td>\n",
              "      <td>0.05</td>\n",
              "      <td>4.31</td>\n",
              "    </tr>\n",
              "    <tr>\n",
              "      <th>1</th>\n",
              "      <td>545</td>\n",
              "      <td>Missile Command</td>\n",
              "      <td>2600</td>\n",
              "      <td>1980</td>\n",
              "      <td>Shooter</td>\n",
              "      <td>Atari</td>\n",
              "      <td>2.56</td>\n",
              "      <td>0.17</td>\n",
              "      <td>0.0</td>\n",
              "      <td>0.03</td>\n",
              "      <td>2.76</td>\n",
              "    </tr>\n",
              "    <tr>\n",
              "      <th>2</th>\n",
              "      <td>1768</td>\n",
              "      <td>Kaboom!</td>\n",
              "      <td>2600</td>\n",
              "      <td>1980</td>\n",
              "      <td>Misc</td>\n",
              "      <td>Activision</td>\n",
              "      <td>1.07</td>\n",
              "      <td>0.07</td>\n",
              "      <td>0.0</td>\n",
              "      <td>0.01</td>\n",
              "      <td>1.15</td>\n",
              "    </tr>\n",
              "    <tr>\n",
              "      <th>3</th>\n",
              "      <td>1971</td>\n",
              "      <td>Defender</td>\n",
              "      <td>2600</td>\n",
              "      <td>1980</td>\n",
              "      <td>Misc</td>\n",
              "      <td>Atari</td>\n",
              "      <td>0.99</td>\n",
              "      <td>0.05</td>\n",
              "      <td>0.0</td>\n",
              "      <td>0.01</td>\n",
              "      <td>1.05</td>\n",
              "    </tr>\n",
              "    <tr>\n",
              "      <th>4</th>\n",
              "      <td>2671</td>\n",
              "      <td>Boxing</td>\n",
              "      <td>2600</td>\n",
              "      <td>1980</td>\n",
              "      <td>Fighting</td>\n",
              "      <td>Activision</td>\n",
              "      <td>0.72</td>\n",
              "      <td>0.04</td>\n",
              "      <td>0.0</td>\n",
              "      <td>0.01</td>\n",
              "      <td>0.77</td>\n",
              "    </tr>\n",
              "  </tbody>\n",
              "</table>\n",
              "</div>"
            ],
            "text/plain": [
              "   Rank             Name Platform  Year     Genre   Publisher  NA_Sales  \\\n",
              "0   259        Asteroids     2600  1980   Shooter       Atari      4.00   \n",
              "1   545  Missile Command     2600  1980   Shooter       Atari      2.56   \n",
              "2  1768          Kaboom!     2600  1980      Misc  Activision      1.07   \n",
              "3  1971         Defender     2600  1980      Misc       Atari      0.99   \n",
              "4  2671           Boxing     2600  1980  Fighting  Activision      0.72   \n",
              "\n",
              "   EU_Sales  JP_Sales  Other_Sales  Global_Sales  \n",
              "0      0.26       0.0         0.05          4.31  \n",
              "1      0.17       0.0         0.03          2.76  \n",
              "2      0.07       0.0         0.01          1.15  \n",
              "3      0.05       0.0         0.01          1.05  \n",
              "4      0.04       0.0         0.01          0.77  "
            ]
          },
          "execution_count": 6,
          "metadata": {},
          "output_type": "execute_result"
        }
      ],
      "source": [
        "# Primeiro overview do DF:\n",
        "df_games.head()"
      ]
    },
    {
      "cell_type": "code",
      "execution_count": 7,
      "metadata": {},
      "outputs": [
        {
          "name": "stdout",
          "output_type": "stream",
          "text": [
            "<class 'pandas.core.frame.DataFrame'>\n",
            "RangeIndex: 16324 entries, 0 to 16323\n",
            "Data columns (total 11 columns):\n",
            " #   Column        Non-Null Count  Dtype  \n",
            "---  ------        --------------  -----  \n",
            " 0   Rank          16324 non-null  int64  \n",
            " 1   Name          16324 non-null  object \n",
            " 2   Platform      16324 non-null  object \n",
            " 3   Year          16324 non-null  int64  \n",
            " 4   Genre         16324 non-null  object \n",
            " 5   Publisher     16288 non-null  object \n",
            " 6   NA_Sales      16324 non-null  float64\n",
            " 7   EU_Sales      16324 non-null  float64\n",
            " 8   JP_Sales      16324 non-null  float64\n",
            " 9   Other_Sales   16324 non-null  float64\n",
            " 10  Global_Sales  16324 non-null  float64\n",
            "dtypes: float64(5), int64(2), object(4)\n",
            "memory usage: 1.4+ MB\n"
          ]
        }
      ],
      "source": [
        "# Verificar se tenho valores nulos:\n",
        "df_games.info()"
      ]
    },
    {
      "cell_type": "code",
      "execution_count": 8,
      "metadata": {},
      "outputs": [
        {
          "data": {
            "text/plain": [
              "Rank              int64\n",
              "Name             object\n",
              "Platform         object\n",
              "Year              int64\n",
              "Genre            object\n",
              "Publisher        object\n",
              "NA_Sales        float64\n",
              "EU_Sales        float64\n",
              "JP_Sales        float64\n",
              "Other_Sales     float64\n",
              "Global_Sales    float64\n",
              "dtype: object"
            ]
          },
          "execution_count": 8,
          "metadata": {},
          "output_type": "execute_result"
        }
      ],
      "source": [
        "# Verificar o formato dos dados de cada coluna:\n",
        "df_games.dtypes"
      ]
    },
    {
      "cell_type": "code",
      "execution_count": 9,
      "metadata": {},
      "outputs": [
        {
          "data": {
            "text/html": [
              "<div>\n",
              "<style scoped>\n",
              "    .dataframe tbody tr th:only-of-type {\n",
              "        vertical-align: middle;\n",
              "    }\n",
              "\n",
              "    .dataframe tbody tr th {\n",
              "        vertical-align: top;\n",
              "    }\n",
              "\n",
              "    .dataframe thead th {\n",
              "        text-align: right;\n",
              "    }\n",
              "</style>\n",
              "<table border=\"1\" class=\"dataframe\">\n",
              "  <thead>\n",
              "    <tr style=\"text-align: right;\">\n",
              "      <th></th>\n",
              "      <th>Rank</th>\n",
              "      <th>Year</th>\n",
              "      <th>NA_Sales</th>\n",
              "      <th>EU_Sales</th>\n",
              "      <th>JP_Sales</th>\n",
              "      <th>Other_Sales</th>\n",
              "      <th>Global_Sales</th>\n",
              "    </tr>\n",
              "  </thead>\n",
              "  <tbody>\n",
              "    <tr>\n",
              "      <th>count</th>\n",
              "      <td>16324.000000</td>\n",
              "      <td>16324.000000</td>\n",
              "      <td>16324.000000</td>\n",
              "      <td>16324.000000</td>\n",
              "      <td>16324.000000</td>\n",
              "      <td>16324.000000</td>\n",
              "      <td>16324.000000</td>\n",
              "    </tr>\n",
              "    <tr>\n",
              "      <th>mean</th>\n",
              "      <td>8291.508270</td>\n",
              "      <td>2006.404251</td>\n",
              "      <td>0.265464</td>\n",
              "      <td>0.147581</td>\n",
              "      <td>0.078673</td>\n",
              "      <td>0.048334</td>\n",
              "      <td>0.540328</td>\n",
              "    </tr>\n",
              "    <tr>\n",
              "      <th>std</th>\n",
              "      <td>4792.043734</td>\n",
              "      <td>5.826744</td>\n",
              "      <td>0.821658</td>\n",
              "      <td>0.508809</td>\n",
              "      <td>0.311584</td>\n",
              "      <td>0.189902</td>\n",
              "      <td>1.565860</td>\n",
              "    </tr>\n",
              "    <tr>\n",
              "      <th>min</th>\n",
              "      <td>1.000000</td>\n",
              "      <td>1980.000000</td>\n",
              "      <td>0.000000</td>\n",
              "      <td>0.000000</td>\n",
              "      <td>0.000000</td>\n",
              "      <td>0.000000</td>\n",
              "      <td>0.010000</td>\n",
              "    </tr>\n",
              "    <tr>\n",
              "      <th>25%</th>\n",
              "      <td>4135.750000</td>\n",
              "      <td>2003.000000</td>\n",
              "      <td>0.000000</td>\n",
              "      <td>0.000000</td>\n",
              "      <td>0.000000</td>\n",
              "      <td>0.000000</td>\n",
              "      <td>0.060000</td>\n",
              "    </tr>\n",
              "    <tr>\n",
              "      <th>50%</th>\n",
              "      <td>8293.500000</td>\n",
              "      <td>2007.000000</td>\n",
              "      <td>0.080000</td>\n",
              "      <td>0.020000</td>\n",
              "      <td>0.000000</td>\n",
              "      <td>0.010000</td>\n",
              "      <td>0.170000</td>\n",
              "    </tr>\n",
              "    <tr>\n",
              "      <th>75%</th>\n",
              "      <td>12439.250000</td>\n",
              "      <td>2010.000000</td>\n",
              "      <td>0.240000</td>\n",
              "      <td>0.110000</td>\n",
              "      <td>0.040000</td>\n",
              "      <td>0.040000</td>\n",
              "      <td>0.480000</td>\n",
              "    </tr>\n",
              "    <tr>\n",
              "      <th>max</th>\n",
              "      <td>16600.000000</td>\n",
              "      <td>2016.000000</td>\n",
              "      <td>41.490000</td>\n",
              "      <td>29.020000</td>\n",
              "      <td>10.220000</td>\n",
              "      <td>10.570000</td>\n",
              "      <td>82.740000</td>\n",
              "    </tr>\n",
              "  </tbody>\n",
              "</table>\n",
              "</div>"
            ],
            "text/plain": [
              "               Rank          Year      NA_Sales      EU_Sales      JP_Sales  \\\n",
              "count  16324.000000  16324.000000  16324.000000  16324.000000  16324.000000   \n",
              "mean    8291.508270   2006.404251      0.265464      0.147581      0.078673   \n",
              "std     4792.043734      5.826744      0.821658      0.508809      0.311584   \n",
              "min        1.000000   1980.000000      0.000000      0.000000      0.000000   \n",
              "25%     4135.750000   2003.000000      0.000000      0.000000      0.000000   \n",
              "50%     8293.500000   2007.000000      0.080000      0.020000      0.000000   \n",
              "75%    12439.250000   2010.000000      0.240000      0.110000      0.040000   \n",
              "max    16600.000000   2016.000000     41.490000     29.020000     10.220000   \n",
              "\n",
              "        Other_Sales  Global_Sales  \n",
              "count  16324.000000  16324.000000  \n",
              "mean       0.048334      0.540328  \n",
              "std        0.189902      1.565860  \n",
              "min        0.000000      0.010000  \n",
              "25%        0.000000      0.060000  \n",
              "50%        0.010000      0.170000  \n",
              "75%        0.040000      0.480000  \n",
              "max       10.570000     82.740000  "
            ]
          },
          "execution_count": 9,
          "metadata": {},
          "output_type": "execute_result"
        }
      ],
      "source": [
        "# Verificar algumas métricas:\n",
        "df_games.describe()"
      ]
    },
    {
      "cell_type": "code",
      "execution_count": 10,
      "metadata": {},
      "outputs": [
        {
          "data": {
            "text/html": [
              "<div>\n",
              "<style scoped>\n",
              "    .dataframe tbody tr th:only-of-type {\n",
              "        vertical-align: middle;\n",
              "    }\n",
              "\n",
              "    .dataframe tbody tr th {\n",
              "        vertical-align: top;\n",
              "    }\n",
              "\n",
              "    .dataframe thead th {\n",
              "        text-align: right;\n",
              "    }\n",
              "</style>\n",
              "<table border=\"1\" class=\"dataframe\">\n",
              "  <thead>\n",
              "    <tr style=\"text-align: right;\">\n",
              "      <th></th>\n",
              "      <th>Rank</th>\n",
              "      <th>Name</th>\n",
              "      <th>Platform</th>\n",
              "      <th>Year</th>\n",
              "      <th>Genre</th>\n",
              "      <th>Publisher</th>\n",
              "      <th>NA_Sales</th>\n",
              "      <th>EU_Sales</th>\n",
              "      <th>JP_Sales</th>\n",
              "      <th>Other_Sales</th>\n",
              "      <th>Global_Sales</th>\n",
              "    </tr>\n",
              "  </thead>\n",
              "  <tbody>\n",
              "    <tr>\n",
              "      <th>0</th>\n",
              "      <td>259</td>\n",
              "      <td>Asteroids</td>\n",
              "      <td>2600</td>\n",
              "      <td>1980</td>\n",
              "      <td>Shooter</td>\n",
              "      <td>Atari</td>\n",
              "      <td>4.00</td>\n",
              "      <td>0.26</td>\n",
              "      <td>0.00</td>\n",
              "      <td>0.05</td>\n",
              "      <td>4.31</td>\n",
              "    </tr>\n",
              "    <tr>\n",
              "      <th>1</th>\n",
              "      <td>545</td>\n",
              "      <td>Missile Command</td>\n",
              "      <td>2600</td>\n",
              "      <td>1980</td>\n",
              "      <td>Shooter</td>\n",
              "      <td>Atari</td>\n",
              "      <td>2.56</td>\n",
              "      <td>0.17</td>\n",
              "      <td>0.00</td>\n",
              "      <td>0.03</td>\n",
              "      <td>2.76</td>\n",
              "    </tr>\n",
              "    <tr>\n",
              "      <th>2</th>\n",
              "      <td>1768</td>\n",
              "      <td>Kaboom!</td>\n",
              "      <td>2600</td>\n",
              "      <td>1980</td>\n",
              "      <td>Misc</td>\n",
              "      <td>Activision</td>\n",
              "      <td>1.07</td>\n",
              "      <td>0.07</td>\n",
              "      <td>0.00</td>\n",
              "      <td>0.01</td>\n",
              "      <td>1.15</td>\n",
              "    </tr>\n",
              "    <tr>\n",
              "      <th>3</th>\n",
              "      <td>1971</td>\n",
              "      <td>Defender</td>\n",
              "      <td>2600</td>\n",
              "      <td>1980</td>\n",
              "      <td>Misc</td>\n",
              "      <td>Atari</td>\n",
              "      <td>0.99</td>\n",
              "      <td>0.05</td>\n",
              "      <td>0.00</td>\n",
              "      <td>0.01</td>\n",
              "      <td>1.05</td>\n",
              "    </tr>\n",
              "    <tr>\n",
              "      <th>4</th>\n",
              "      <td>2671</td>\n",
              "      <td>Boxing</td>\n",
              "      <td>2600</td>\n",
              "      <td>1980</td>\n",
              "      <td>Fighting</td>\n",
              "      <td>Activision</td>\n",
              "      <td>0.72</td>\n",
              "      <td>0.04</td>\n",
              "      <td>0.00</td>\n",
              "      <td>0.01</td>\n",
              "      <td>0.77</td>\n",
              "    </tr>\n",
              "    <tr>\n",
              "      <th>...</th>\n",
              "      <td>...</td>\n",
              "      <td>...</td>\n",
              "      <td>...</td>\n",
              "      <td>...</td>\n",
              "      <td>...</td>\n",
              "      <td>...</td>\n",
              "      <td>...</td>\n",
              "      <td>...</td>\n",
              "      <td>...</td>\n",
              "      <td>...</td>\n",
              "      <td>...</td>\n",
              "    </tr>\n",
              "    <tr>\n",
              "      <th>16319</th>\n",
              "      <td>16565</td>\n",
              "      <td>Mighty No. 9</td>\n",
              "      <td>XOne</td>\n",
              "      <td>2016</td>\n",
              "      <td>Platform</td>\n",
              "      <td>Deep Silver</td>\n",
              "      <td>0.01</td>\n",
              "      <td>0.00</td>\n",
              "      <td>0.00</td>\n",
              "      <td>0.00</td>\n",
              "      <td>0.01</td>\n",
              "    </tr>\n",
              "    <tr>\n",
              "      <th>16320</th>\n",
              "      <td>16572</td>\n",
              "      <td>Resident Evil 4 HD</td>\n",
              "      <td>XOne</td>\n",
              "      <td>2016</td>\n",
              "      <td>Shooter</td>\n",
              "      <td>Capcom</td>\n",
              "      <td>0.01</td>\n",
              "      <td>0.00</td>\n",
              "      <td>0.00</td>\n",
              "      <td>0.00</td>\n",
              "      <td>0.01</td>\n",
              "    </tr>\n",
              "    <tr>\n",
              "      <th>16321</th>\n",
              "      <td>16573</td>\n",
              "      <td>Farming 2017 - The Simulation</td>\n",
              "      <td>PS4</td>\n",
              "      <td>2016</td>\n",
              "      <td>Simulation</td>\n",
              "      <td>UIG Entertainment</td>\n",
              "      <td>0.00</td>\n",
              "      <td>0.01</td>\n",
              "      <td>0.00</td>\n",
              "      <td>0.00</td>\n",
              "      <td>0.01</td>\n",
              "    </tr>\n",
              "    <tr>\n",
              "      <th>16322</th>\n",
              "      <td>16579</td>\n",
              "      <td>Rugby Challenge 3</td>\n",
              "      <td>XOne</td>\n",
              "      <td>2016</td>\n",
              "      <td>Sports</td>\n",
              "      <td>Alternative Software</td>\n",
              "      <td>0.00</td>\n",
              "      <td>0.01</td>\n",
              "      <td>0.00</td>\n",
              "      <td>0.00</td>\n",
              "      <td>0.01</td>\n",
              "    </tr>\n",
              "    <tr>\n",
              "      <th>16323</th>\n",
              "      <td>16592</td>\n",
              "      <td>Chou Ezaru wa Akai Hana: Koi wa Tsuki ni Shiru...</td>\n",
              "      <td>PSV</td>\n",
              "      <td>2016</td>\n",
              "      <td>Action</td>\n",
              "      <td>dramatic create</td>\n",
              "      <td>0.00</td>\n",
              "      <td>0.00</td>\n",
              "      <td>0.01</td>\n",
              "      <td>0.00</td>\n",
              "      <td>0.01</td>\n",
              "    </tr>\n",
              "  </tbody>\n",
              "</table>\n",
              "<p>16324 rows × 11 columns</p>\n",
              "</div>"
            ],
            "text/plain": [
              "        Rank                                               Name Platform  \\\n",
              "0        259                                          Asteroids     2600   \n",
              "1        545                                    Missile Command     2600   \n",
              "2       1768                                            Kaboom!     2600   \n",
              "3       1971                                           Defender     2600   \n",
              "4       2671                                             Boxing     2600   \n",
              "...      ...                                                ...      ...   \n",
              "16319  16565                                       Mighty No. 9     XOne   \n",
              "16320  16572                                 Resident Evil 4 HD     XOne   \n",
              "16321  16573                      Farming 2017 - The Simulation      PS4   \n",
              "16322  16579                                  Rugby Challenge 3     XOne   \n",
              "16323  16592  Chou Ezaru wa Akai Hana: Koi wa Tsuki ni Shiru...      PSV   \n",
              "\n",
              "       Year       Genre             Publisher  NA_Sales  EU_Sales  JP_Sales  \\\n",
              "0      1980     Shooter                 Atari      4.00      0.26      0.00   \n",
              "1      1980     Shooter                 Atari      2.56      0.17      0.00   \n",
              "2      1980        Misc            Activision      1.07      0.07      0.00   \n",
              "3      1980        Misc                 Atari      0.99      0.05      0.00   \n",
              "4      1980    Fighting            Activision      0.72      0.04      0.00   \n",
              "...     ...         ...                   ...       ...       ...       ...   \n",
              "16319  2016    Platform           Deep Silver      0.01      0.00      0.00   \n",
              "16320  2016     Shooter                Capcom      0.01      0.00      0.00   \n",
              "16321  2016  Simulation     UIG Entertainment      0.00      0.01      0.00   \n",
              "16322  2016      Sports  Alternative Software      0.00      0.01      0.00   \n",
              "16323  2016      Action       dramatic create      0.00      0.00      0.01   \n",
              "\n",
              "       Other_Sales  Global_Sales  \n",
              "0             0.05          4.31  \n",
              "1             0.03          2.76  \n",
              "2             0.01          1.15  \n",
              "3             0.01          1.05  \n",
              "4             0.01          0.77  \n",
              "...            ...           ...  \n",
              "16319         0.00          0.01  \n",
              "16320         0.00          0.01  \n",
              "16321         0.00          0.01  \n",
              "16322         0.00          0.01  \n",
              "16323         0.00          0.01  \n",
              "\n",
              "[16324 rows x 11 columns]"
            ]
          },
          "execution_count": 10,
          "metadata": {},
          "output_type": "execute_result"
        }
      ],
      "source": [
        "df_games"
      ]
    },
    {
      "cell_type": "markdown",
      "metadata": {
        "id": "6y7X1dc-MFr1"
      },
      "source": [
        "Qual foi o jogo mais vendido no mundo em 2010?\n",
        "\n"
      ]
    },
    {
      "cell_type": "code",
      "execution_count": 11,
      "metadata": {
        "id": "6X6M5T7EMb-G"
      },
      "outputs": [
        {
          "data": {
            "text/html": [
              "<div>\n",
              "<style scoped>\n",
              "    .dataframe tbody tr th:only-of-type {\n",
              "        vertical-align: middle;\n",
              "    }\n",
              "\n",
              "    .dataframe tbody tr th {\n",
              "        vertical-align: top;\n",
              "    }\n",
              "\n",
              "    .dataframe thead th {\n",
              "        text-align: right;\n",
              "    }\n",
              "</style>\n",
              "<table border=\"1\" class=\"dataframe\">\n",
              "  <thead>\n",
              "    <tr style=\"text-align: right;\">\n",
              "      <th></th>\n",
              "      <th>Rank</th>\n",
              "      <th>Name</th>\n",
              "      <th>Platform</th>\n",
              "      <th>Year</th>\n",
              "      <th>Genre</th>\n",
              "      <th>Publisher</th>\n",
              "      <th>NA_Sales</th>\n",
              "      <th>EU_Sales</th>\n",
              "      <th>JP_Sales</th>\n",
              "      <th>Other_Sales</th>\n",
              "      <th>Global_Sales</th>\n",
              "    </tr>\n",
              "  </thead>\n",
              "  <tbody>\n",
              "    <tr>\n",
              "      <th>11183</th>\n",
              "      <td>16</td>\n",
              "      <td>Kinect Adventures!</td>\n",
              "      <td>X360</td>\n",
              "      <td>2010</td>\n",
              "      <td>Misc</td>\n",
              "      <td>Microsoft Game Studios</td>\n",
              "      <td>14.97</td>\n",
              "      <td>4.94</td>\n",
              "      <td>0.24</td>\n",
              "      <td>1.67</td>\n",
              "      <td>21.82</td>\n",
              "    </tr>\n",
              "  </tbody>\n",
              "</table>\n",
              "</div>"
            ],
            "text/plain": [
              "       Rank                Name Platform  Year Genre               Publisher  \\\n",
              "11183    16  Kinect Adventures!     X360  2010  Misc  Microsoft Game Studios   \n",
              "\n",
              "       NA_Sales  EU_Sales  JP_Sales  Other_Sales  Global_Sales  \n",
              "11183     14.97      4.94      0.24         1.67         21.82  "
            ]
          },
          "execution_count": 11,
          "metadata": {},
          "output_type": "execute_result"
        }
      ],
      "source": [
        "# qual o jogo que tem maior global_sales com base no year de 2010\n",
        "df_games.loc[df_games['Year'] == 2010].sort_values(by='Global_Sales', ascending=False).head(1)"
      ]
    },
    {
      "cell_type": "markdown",
      "metadata": {
        "id": "FgEq2x_mMicx"
      },
      "source": [
        "Qual foi a empresa que mais vendeu de 2005 até 2016 - Construa um gráfico de barras para apresentar\n"
      ]
    },
    {
      "cell_type": "code",
      "execution_count": 12,
      "metadata": {
        "id": "EFe-4pq8NGRf"
      },
      "outputs": [
        {
          "data": {
            "image/png": "[encoded data removed]",
            "text/plain": [
              "<Figure size 640x480 with 1 Axes>"
            ]
          },
          "metadata": {},
          "output_type": "display_data"
        }
      ],
      "source": [
        "# year = df_games.loc[(df_games['Year'] >= 2005) & (df_games['Year'] <= 2016)]\n",
        "# year = df_games.loc[(df_games['Year'] >= 2005) & (df_games['Year'] <= 2016)]\n",
        "publisher = df_games['Publisher'].astype(str) # Convert the 'Publisher' column to string type\n",
        "sales_global = df_games['Global_Sales']\n",
        "\n",
        "fig, ax = plt.subplots()\n",
        "\n",
        "ax.bar(publisher, sales_global)\n",
        "\n",
        "ax.set_xlabel('Publisher')\n",
        "ax.set_ylabel('Sales Global')\n",
        "\n",
        "plt.show()"
      ]
    },
    {
      "cell_type": "markdown",
      "metadata": {
        "id": "VFXayO6DNJ3F"
      },
      "source": [
        "Qual o nome do jogo que menos foi vendido em 2008 do gênero Sports.\n"
      ]
    },
    {
      "cell_type": "code",
      "execution_count": 13,
      "metadata": {
        "id": "JUO0B9kWNcCX"
      },
      "outputs": [
        {
          "data": {
            "text/plain": [
              "9731    Summer Athletics\n",
              "Name: Name, dtype: object"
            ]
          },
          "execution_count": 13,
          "metadata": {},
          "output_type": "execute_result"
        }
      ],
      "source": [
        "df_menos_vendido_2008 = df_games.loc[(df_games['Year'] == 2008) & (df_games['Genre'] == 'Sports') ].sort_values(by='Global_Sales', ascending=True).head(1)\n",
        "df_menos_vendido_2008 = df_menos_vendido_2008['Name']\n",
        "df_menos_vendido_2008"
      ]
    },
    {
      "cell_type": "markdown",
      "metadata": {
        "id": "aqaMxrGMNhQv"
      },
      "source": [
        "Qual o percentual relacionado às vendas globais de jogos de Wii (excluindo-se América do norte, japão e europa) de 2006 até 2010?\n",
        "\n",
        "\n",
        "\n"
      ]
    },
    {
      "cell_type": "code",
      "execution_count": 14,
      "metadata": {
        "id": "yoT1FXJSzKwj"
      },
      "outputs": [
        {
          "name": "stdout",
          "output_type": "stream",
          "text": [
            "      Other_Sales  Global_Sales Other_Sales_Percentage\n",
            "Year                                                  \n",
            "2006        13.56        137.91                  9.83%\n",
            "2007        13.75        154.97                  8.87%\n",
            "2008        15.25        174.16                  8.76%\n",
            "2009        17.79        210.44                  8.45%\n",
            "2010        10.47        131.80                  7.94%\n"
          ]
        }
      ],
      "source": [
        "df_wii = df_games.loc[(df_games['Platform'] == 'Wii') &\n",
        "                      (df_games['Year'] >= 2006) &\n",
        "                      (df_games['Year'] <= 2010)] /\n",
        "                      .groupby('Year') /\n",
        "                      [['Other_Sales', 'Global_Sales']].sum()\n",
        "\n",
        "df_wii['Other_Sales_Percentage'] = ((df_wii['Other_Sales'] / df_wii['Global_Sales']) * 100).round(2)\n",
        "\n",
        "# Formatar:\n",
        "df_wii['Other_Sales_Percentage'] = df_wii['Other_Sales_Percentage'].apply(lambda x: f'{x:.2f}%')\n",
        "\n",
        "print(df_wii)"
      ]
    },
    {
      "cell_type": "markdown",
      "metadata": {
        "id": "jMjZzRxr29TF"
      },
      "source": [
        "Mostre um gráfico de linhas com as vendas em diferentes plataformas ao longo dos anos.\n"
      ]
    },
    {
      "cell_type": "code",
      "execution_count": 15,
      "metadata": {
        "id": "ZWpciLPN3Ckx"
      },
      "outputs": [
        {
          "data": {
            "image/png": "[encoded data removed]",
            "text/plain": [
              "<Figure size 640x480 with 1 Axes>"
            ]
          },
          "metadata": {},
          "output_type": "display_data"
        }
      ],
      "source": [
        "# FAZER:\n",
        "# Mostre um gráfico de linhas com as vendas em diferentes plataformas ao longo dos anos.\n",
        "df_games.groupby(['Year', 'Platform'])[['Global_Sales']].sum().unstack().plot()\n",
        "plt.show()"
      ]
    },
    {
      "cell_type": "markdown",
      "metadata": {
        "id": "fDxIIqqS3DHs"
      },
      "source": [
        "Mostre um gráfico de pizza com o percentual de vendas dos diferentes gêneros de jogos.\n",
        "\n",
        "\n"
      ]
    },
    {
      "cell_type": "code",
      "execution_count": 17,
      "metadata": {
        "id": "M85a5qNt3E2y"
      },
      "outputs": [
        {
          "data": {
            "image/png": "[encoded data removed]",
            "text/plain": [
              "<Figure size 640x480 with 1 Axes>"
            ]
          },
          "metadata": {},
          "output_type": "display_data"
        }
      ],
      "source": [
        "# FAZER:\n",
        "# Mostre um gráfico de pizza com o percentual de vendas dos diferentes gêneros de jogos.\n",
        "df_games.groupby('Genre')['Global_Sales'].sum().plot(kind='pie', autopct='%1.1f%%')\n",
        "plt.show()"
      ]
    },
    {
      "cell_type": "markdown",
      "metadata": {
        "id": "ke3v3Xd8-wmR"
      },
      "source": [
        "#Exercícios_pandas"
      ]
    },
    {
      "cell_type": "markdown",
      "metadata": {
        "id": "hgqYfhU33FtF"
      },
      "source": [
        "Utilize os arquivos [livros.csv](https://drive.google.com/file/d/1fzuUyFxhzhE9U4_-i3IIUTwvgr3QG1Hj/view?usp=sharing), [livros_genero.csv](https://drive.google.com/file/d/1Cww5lAb7l_LQXVhH1ieyIOWIrqorNKcn/view?usp=sharing) e [livros_classicos.csv](https://drive.google.com/file/d/1pbSReiGSIIlHHXbFBOAaA5zTlNTrbY9P/view?usp=sharing) como entrada para o processamento requerido nos seguintes exercícios.\n"
      ]
    },
    {
      "cell_type": "code",
      "execution_count": 19,
      "metadata": {
        "id": "EK9X8wTZ3UdS"
      },
      "outputs": [],
      "source": [
        "df_livros = pd.read_csv('/Users/ramon/Documents/01.ESTUDOS/01.6.DEV/04.GROWDEV/03-3ª Edição - Engenharia de dados/00- Growdev - Eng. Dados/Atividades/Módulo 03/dados/livros.csv')\n",
        "df_livros_genero = pd.read_csv('C:/Users/ramon/Documents/01.ESTUDOS/01.6.DEV/04.GROWDEV/03-3ª Edição - Engenharia de dados/00- Growdev - Eng. Dados/Atividades/Módulo 03/dados/livros_genero.csv')\n",
        "df_livros_classicos = pd.read_csv('C:/Users/ramon/Documents/01.ESTUDOS/01.6.DEV/04.GROWDEV/03-3ª Edição - Engenharia de dados/00- Growdev - Eng. Dados/Atividades/Módulo 03/dados/livros_classicos.csv')\n"
      ]
    },
    {
      "cell_type": "code",
      "execution_count": 20,
      "metadata": {},
      "outputs": [
        {
          "data": {
            "text/html": [
              "<div>\n",
              "<style scoped>\n",
              "    .dataframe tbody tr th:only-of-type {\n",
              "        vertical-align: middle;\n",
              "    }\n",
              "\n",
              "    .dataframe tbody tr th {\n",
              "        vertical-align: top;\n",
              "    }\n",
              "\n",
              "    .dataframe thead th {\n",
              "        text-align: right;\n",
              "    }\n",
              "</style>\n",
              "<table border=\"1\" class=\"dataframe\">\n",
              "  <thead>\n",
              "    <tr style=\"text-align: right;\">\n",
              "      <th></th>\n",
              "      <th>nome</th>\n",
              "      <th>paginas</th>\n",
              "    </tr>\n",
              "  </thead>\n",
              "  <tbody>\n",
              "    <tr>\n",
              "      <th>0</th>\n",
              "      <td>livro 1</td>\n",
              "      <td>257</td>\n",
              "    </tr>\n",
              "    <tr>\n",
              "      <th>1</th>\n",
              "      <td>livro 2</td>\n",
              "      <td>106</td>\n",
              "    </tr>\n",
              "    <tr>\n",
              "      <th>2</th>\n",
              "      <td>livro 3</td>\n",
              "      <td>150</td>\n",
              "    </tr>\n",
              "    <tr>\n",
              "      <th>3</th>\n",
              "      <td>livro 4</td>\n",
              "      <td>175</td>\n",
              "    </tr>\n",
              "    <tr>\n",
              "      <th>4</th>\n",
              "      <td>livro 5</td>\n",
              "      <td>321</td>\n",
              "    </tr>\n",
              "  </tbody>\n",
              "</table>\n",
              "</div>"
            ],
            "text/plain": [
              "      nome  paginas\n",
              "0  livro 1      257\n",
              "1  livro 2      106\n",
              "2  livro 3      150\n",
              "3  livro 4      175\n",
              "4  livro 5      321"
            ]
          },
          "execution_count": 20,
          "metadata": {},
          "output_type": "execute_result"
        }
      ],
      "source": [
        "\n",
        "df_livros.head()"
      ]
    },
    {
      "cell_type": "code",
      "execution_count": 21,
      "metadata": {},
      "outputs": [
        {
          "name": "stdout",
          "output_type": "stream",
          "text": [
            "<class 'pandas.core.frame.DataFrame'>\n",
            "RangeIndex: 10 entries, 0 to 9\n",
            "Data columns (total 2 columns):\n",
            " #   Column   Non-Null Count  Dtype \n",
            "---  ------   --------------  ----- \n",
            " 0   nome     10 non-null     object\n",
            " 1   paginas  10 non-null     int64 \n",
            "dtypes: int64(1), object(1)\n",
            "memory usage: 292.0+ bytes\n"
          ]
        }
      ],
      "source": [
        "df_livros.info()"
      ]
    },
    {
      "cell_type": "code",
      "execution_count": 22,
      "metadata": {},
      "outputs": [
        {
          "data": {
            "text/plain": [
              "nome       object\n",
              "paginas     int64\n",
              "dtype: object"
            ]
          },
          "execution_count": 22,
          "metadata": {},
          "output_type": "execute_result"
        }
      ],
      "source": [
        "df_livros.dtypes\n",
        "     "
      ]
    },
    {
      "cell_type": "code",
      "execution_count": 23,
      "metadata": {},
      "outputs": [
        {
          "data": {
            "text/html": [
              "<div>\n",
              "<style scoped>\n",
              "    .dataframe tbody tr th:only-of-type {\n",
              "        vertical-align: middle;\n",
              "    }\n",
              "\n",
              "    .dataframe tbody tr th {\n",
              "        vertical-align: top;\n",
              "    }\n",
              "\n",
              "    .dataframe thead th {\n",
              "        text-align: right;\n",
              "    }\n",
              "</style>\n",
              "<table border=\"1\" class=\"dataframe\">\n",
              "  <thead>\n",
              "    <tr style=\"text-align: right;\">\n",
              "      <th></th>\n",
              "      <th>genero</th>\n",
              "      <th>autor</th>\n",
              "    </tr>\n",
              "  </thead>\n",
              "  <tbody>\n",
              "    <tr>\n",
              "      <th>0</th>\n",
              "      <td>Drama</td>\n",
              "      <td>Pedro</td>\n",
              "    </tr>\n",
              "    <tr>\n",
              "      <th>1</th>\n",
              "      <td>Aventura</td>\n",
              "      <td>José</td>\n",
              "    </tr>\n",
              "    <tr>\n",
              "      <th>2</th>\n",
              "      <td>Drama</td>\n",
              "      <td>Carlos</td>\n",
              "    </tr>\n",
              "    <tr>\n",
              "      <th>3</th>\n",
              "      <td>Romance</td>\n",
              "      <td>Maria</td>\n",
              "    </tr>\n",
              "    <tr>\n",
              "      <th>4</th>\n",
              "      <td>Romance</td>\n",
              "      <td>Fabio</td>\n",
              "    </tr>\n",
              "  </tbody>\n",
              "</table>\n",
              "</div>"
            ],
            "text/plain": [
              "     genero   autor\n",
              "0     Drama   Pedro\n",
              "1  Aventura    José\n",
              "2     Drama  Carlos\n",
              "3   Romance   Maria\n",
              "4   Romance   Fabio"
            ]
          },
          "execution_count": 23,
          "metadata": {},
          "output_type": "execute_result"
        }
      ],
      "source": [
        "df_livros_genero.head()"
      ]
    },
    {
      "cell_type": "code",
      "execution_count": 24,
      "metadata": {},
      "outputs": [
        {
          "name": "stdout",
          "output_type": "stream",
          "text": [
            "<class 'pandas.core.frame.DataFrame'>\n",
            "RangeIndex: 11 entries, 0 to 10\n",
            "Data columns (total 2 columns):\n",
            " #   Column  Non-Null Count  Dtype \n",
            "---  ------  --------------  ----- \n",
            " 0   genero  11 non-null     object\n",
            " 1   autor   11 non-null     object\n",
            "dtypes: object(2)\n",
            "memory usage: 308.0+ bytes\n"
          ]
        }
      ],
      "source": [
        "df_livros_genero.info()"
      ]
    },
    {
      "cell_type": "code",
      "execution_count": 25,
      "metadata": {},
      "outputs": [
        {
          "data": {
            "text/plain": [
              "genero    object\n",
              "autor     object\n",
              "dtype: object"
            ]
          },
          "execution_count": 25,
          "metadata": {},
          "output_type": "execute_result"
        }
      ],
      "source": [
        "df_livros_genero.dtypes"
      ]
    },
    {
      "cell_type": "code",
      "execution_count": 26,
      "metadata": {},
      "outputs": [
        {
          "data": {
            "text/html": [
              "<div>\n",
              "<style scoped>\n",
              "    .dataframe tbody tr th:only-of-type {\n",
              "        vertical-align: middle;\n",
              "    }\n",
              "\n",
              "    .dataframe tbody tr th {\n",
              "        vertical-align: top;\n",
              "    }\n",
              "\n",
              "    .dataframe thead th {\n",
              "        text-align: right;\n",
              "    }\n",
              "</style>\n",
              "<table border=\"1\" class=\"dataframe\">\n",
              "  <thead>\n",
              "    <tr style=\"text-align: right;\">\n",
              "      <th></th>\n",
              "      <th>nome</th>\n",
              "      <th>autor</th>\n",
              "    </tr>\n",
              "  </thead>\n",
              "  <tbody>\n",
              "    <tr>\n",
              "      <th>0</th>\n",
              "      <td>livro 1</td>\n",
              "      <td>Jorge</td>\n",
              "    </tr>\n",
              "    <tr>\n",
              "      <th>1</th>\n",
              "      <td>livro 2</td>\n",
              "      <td>Santos</td>\n",
              "    </tr>\n",
              "    <tr>\n",
              "      <th>2</th>\n",
              "      <td>livro 3</td>\n",
              "      <td>Leandro</td>\n",
              "    </tr>\n",
              "    <tr>\n",
              "      <th>3</th>\n",
              "      <td>livro 4</td>\n",
              "      <td>Clara</td>\n",
              "    </tr>\n",
              "    <tr>\n",
              "      <th>4</th>\n",
              "      <td>livro 5</td>\n",
              "      <td>Flavia</td>\n",
              "    </tr>\n",
              "  </tbody>\n",
              "</table>\n",
              "</div>"
            ],
            "text/plain": [
              "      nome    autor\n",
              "0  livro 1    Jorge\n",
              "1  livro 2   Santos\n",
              "2  livro 3  Leandro\n",
              "3  livro 4    Clara\n",
              "4  livro 5   Flavia"
            ]
          },
          "execution_count": 26,
          "metadata": {},
          "output_type": "execute_result"
        }
      ],
      "source": [
        "df_livros_classicos.head()"
      ]
    },
    {
      "cell_type": "code",
      "execution_count": 27,
      "metadata": {},
      "outputs": [
        {
          "name": "stdout",
          "output_type": "stream",
          "text": [
            "<class 'pandas.core.frame.DataFrame'>\n",
            "RangeIndex: 10 entries, 0 to 9\n",
            "Data columns (total 2 columns):\n",
            " #   Column  Non-Null Count  Dtype \n",
            "---  ------  --------------  ----- \n",
            " 0   nome    10 non-null     object\n",
            " 1   autor   10 non-null     object\n",
            "dtypes: object(2)\n",
            "memory usage: 292.0+ bytes\n"
          ]
        }
      ],
      "source": [
        "df_livros_classicos.info()"
      ]
    },
    {
      "cell_type": "code",
      "execution_count": 28,
      "metadata": {},
      "outputs": [
        {
          "data": {
            "text/plain": [
              "nome     object\n",
              "autor    object\n",
              "dtype: object"
            ]
          },
          "execution_count": 28,
          "metadata": {},
          "output_type": "execute_result"
        }
      ],
      "source": [
        "df_livros_classicos.dtypes"
      ]
    },
    {
      "cell_type": "markdown",
      "metadata": {
        "id": "_ZjroKKB3WBx"
      },
      "source": [
        "Faça a concatenação das bases de dados livros.csv e livros_genero.csv e encontre qual o gênero de livro correspondente a cada livro."
      ]
    },
    {
      "cell_type": "code",
      "execution_count": 31,
      "metadata": {
        "id": "7dx7zW7M3Wau"
      },
      "outputs": [
        {
          "name": "stdout",
          "output_type": "stream",
          "text": [
            "Nome do livro: livro 1 - Gênero do livro: Drama\n",
            "Nome do livro: livro 2 - Gênero do livro: Aventura\n",
            "Nome do livro: livro 3 - Gênero do livro: Drama\n",
            "Nome do livro: livro 4 - Gênero do livro: Romance\n",
            "Nome do livro: livro 5 - Gênero do livro: Romance\n",
            "Nome do livro: livro 6 - Gênero do livro: Aventura\n",
            "Nome do livro: livro 7 - Gênero do livro: Drama\n",
            "Nome do livro: livro 8 - Gênero do livro: Aventura\n",
            "Nome do livro: livro 9 - Gênero do livro: Romance\n",
            "Nome do livro: livro 10 - Gênero do livro: Aventura\n",
            "Nome do livro: nan - Gênero do livro: Romance\n"
          ]
        }
      ],
      "source": [
        "\n",
        "livros_com_genero = pd.concat([df_livros, df_livros_genero], axis=1)\n",
        "\n",
        "for index, row in livros_com_genero.iterrows():\n",
        "    if pd.notnull(row['genero']):\n",
        "      print(f\"Nome do livro: {row['nome']} - Gênero do livro: {row['genero']}\")\n"
      ]
    },
    {
      "cell_type": "markdown",
      "metadata": {
        "id": "sG2Kkkrd3X5V"
      },
      "source": [
        "Faça a concatenação das bases de dados de livros e livros_genero e encontre qual os gêneros e os autores que não possuem um livro correspondente."
      ]
    },
    {
      "cell_type": "code",
      "execution_count": 32,
      "metadata": {
        "id": "imgwaOGk3YNq"
      },
      "outputs": [
        {
          "name": "stdout",
          "output_type": "stream",
          "text": [
            "Nome do livro: nan - Gênero do livro: Romance\n"
          ]
        }
      ],
      "source": [
        "for index, row in livros_com_genero.iterrows():\n",
        "    if pd.isnull(row['nome']):\n",
        "      print(f\"Nome do livro: {row['nome']} - Gênero do livro: {row['genero']}\")"
      ]
    },
    {
      "cell_type": "markdown",
      "metadata": {
        "id": "72Oy_JJ_3Z7F"
      },
      "source": [
        "Faça a junção das bases de livros e livros clássicos."
      ]
    },
    {
      "cell_type": "code",
      "execution_count": 33,
      "metadata": {
        "id": "YZFVy7UM3aPC"
      },
      "outputs": [
        {
          "data": {
            "text/html": [
              "<div>\n",
              "<style scoped>\n",
              "    .dataframe tbody tr th:only-of-type {\n",
              "        vertical-align: middle;\n",
              "    }\n",
              "\n",
              "    .dataframe tbody tr th {\n",
              "        vertical-align: top;\n",
              "    }\n",
              "\n",
              "    .dataframe thead th {\n",
              "        text-align: right;\n",
              "    }\n",
              "</style>\n",
              "<table border=\"1\" class=\"dataframe\">\n",
              "  <thead>\n",
              "    <tr style=\"text-align: right;\">\n",
              "      <th></th>\n",
              "      <th>nome</th>\n",
              "      <th>paginas</th>\n",
              "      <th>autor</th>\n",
              "    </tr>\n",
              "  </thead>\n",
              "  <tbody>\n",
              "    <tr>\n",
              "      <th>0</th>\n",
              "      <td>livro 1</td>\n",
              "      <td>257</td>\n",
              "      <td>Jorge</td>\n",
              "    </tr>\n",
              "    <tr>\n",
              "      <th>1</th>\n",
              "      <td>livro 2</td>\n",
              "      <td>106</td>\n",
              "      <td>Santos</td>\n",
              "    </tr>\n",
              "    <tr>\n",
              "      <th>2</th>\n",
              "      <td>livro 3</td>\n",
              "      <td>150</td>\n",
              "      <td>Leandro</td>\n",
              "    </tr>\n",
              "    <tr>\n",
              "      <th>3</th>\n",
              "      <td>livro 4</td>\n",
              "      <td>175</td>\n",
              "      <td>Clara</td>\n",
              "    </tr>\n",
              "    <tr>\n",
              "      <th>4</th>\n",
              "      <td>livro 5</td>\n",
              "      <td>321</td>\n",
              "      <td>Flavia</td>\n",
              "    </tr>\n",
              "    <tr>\n",
              "      <th>5</th>\n",
              "      <td>livro 6</td>\n",
              "      <td>159</td>\n",
              "      <td>Leandro</td>\n",
              "    </tr>\n",
              "    <tr>\n",
              "      <th>6</th>\n",
              "      <td>livro 7</td>\n",
              "      <td>980</td>\n",
              "      <td>Santos</td>\n",
              "    </tr>\n",
              "    <tr>\n",
              "      <th>7</th>\n",
              "      <td>livro 8</td>\n",
              "      <td>235</td>\n",
              "      <td>Marcia</td>\n",
              "    </tr>\n",
              "    <tr>\n",
              "      <th>8</th>\n",
              "      <td>livro 9</td>\n",
              "      <td>745</td>\n",
              "      <td>Marcia</td>\n",
              "    </tr>\n",
              "    <tr>\n",
              "      <th>9</th>\n",
              "      <td>livro 10</td>\n",
              "      <td>126</td>\n",
              "      <td>Clara</td>\n",
              "    </tr>\n",
              "  </tbody>\n",
              "</table>\n",
              "</div>"
            ],
            "text/plain": [
              "       nome  paginas    autor\n",
              "0   livro 1      257    Jorge\n",
              "1   livro 2      106   Santos\n",
              "2   livro 3      150  Leandro\n",
              "3   livro 4      175    Clara\n",
              "4   livro 5      321   Flavia\n",
              "5   livro 6      159  Leandro\n",
              "6   livro 7      980   Santos\n",
              "7   livro 8      235   Marcia\n",
              "8   livro 9      745   Marcia\n",
              "9  livro 10      126    Clara"
            ]
          },
          "execution_count": 33,
          "metadata": {},
          "output_type": "execute_result"
        }
      ],
      "source": [
        "\n",
        "livros_e_classicos = pd.concat([df_livros, df_livros_classicos['autor']], axis=1)\n",
        "livros_e_classicos"
      ]
    },
    {
      "cell_type": "markdown",
      "metadata": {
        "id": "HORjiTk8ASUm"
      },
      "source": [
        "Faça a junção das bases de livros e livros clássicos apenas com os elementos em comum entre ambos e remova os índices dos antigos dataframes."
      ]
    },
    {
      "cell_type": "code",
      "execution_count": 34,
      "metadata": {
        "id": "h3QVJcJIASt6"
      },
      "outputs": [
        {
          "data": {
            "text/html": [
              "<div>\n",
              "<style scoped>\n",
              "    .dataframe tbody tr th:only-of-type {\n",
              "        vertical-align: middle;\n",
              "    }\n",
              "\n",
              "    .dataframe tbody tr th {\n",
              "        vertical-align: top;\n",
              "    }\n",
              "\n",
              "    .dataframe thead th {\n",
              "        text-align: right;\n",
              "    }\n",
              "</style>\n",
              "<table border=\"1\" class=\"dataframe\">\n",
              "  <thead>\n",
              "    <tr style=\"text-align: right;\">\n",
              "      <th></th>\n",
              "      <th>nome</th>\n",
              "      <th>paginas</th>\n",
              "      <th>autor</th>\n",
              "    </tr>\n",
              "  </thead>\n",
              "  <tbody>\n",
              "    <tr>\n",
              "      <th>0</th>\n",
              "      <td>livro 1</td>\n",
              "      <td>257</td>\n",
              "      <td>Jorge</td>\n",
              "    </tr>\n",
              "    <tr>\n",
              "      <th>1</th>\n",
              "      <td>livro 2</td>\n",
              "      <td>106</td>\n",
              "      <td>Santos</td>\n",
              "    </tr>\n",
              "    <tr>\n",
              "      <th>2</th>\n",
              "      <td>livro 3</td>\n",
              "      <td>150</td>\n",
              "      <td>Leandro</td>\n",
              "    </tr>\n",
              "    <tr>\n",
              "      <th>3</th>\n",
              "      <td>livro 4</td>\n",
              "      <td>175</td>\n",
              "      <td>Clara</td>\n",
              "    </tr>\n",
              "    <tr>\n",
              "      <th>4</th>\n",
              "      <td>livro 5</td>\n",
              "      <td>321</td>\n",
              "      <td>Flavia</td>\n",
              "    </tr>\n",
              "    <tr>\n",
              "      <th>5</th>\n",
              "      <td>livro 6</td>\n",
              "      <td>159</td>\n",
              "      <td>Leandro</td>\n",
              "    </tr>\n",
              "    <tr>\n",
              "      <th>6</th>\n",
              "      <td>livro 7</td>\n",
              "      <td>980</td>\n",
              "      <td>Santos</td>\n",
              "    </tr>\n",
              "    <tr>\n",
              "      <th>7</th>\n",
              "      <td>livro 8</td>\n",
              "      <td>235</td>\n",
              "      <td>Marcia</td>\n",
              "    </tr>\n",
              "    <tr>\n",
              "      <th>8</th>\n",
              "      <td>livro 9</td>\n",
              "      <td>745</td>\n",
              "      <td>Marcia</td>\n",
              "    </tr>\n",
              "    <tr>\n",
              "      <th>9</th>\n",
              "      <td>livro 10</td>\n",
              "      <td>126</td>\n",
              "      <td>Clara</td>\n",
              "    </tr>\n",
              "  </tbody>\n",
              "</table>\n",
              "</div>"
            ],
            "text/plain": [
              "       nome  paginas    autor\n",
              "0   livro 1      257    Jorge\n",
              "1   livro 2      106   Santos\n",
              "2   livro 3      150  Leandro\n",
              "3   livro 4      175    Clara\n",
              "4   livro 5      321   Flavia\n",
              "5   livro 6      159  Leandro\n",
              "6   livro 7      980   Santos\n",
              "7   livro 8      235   Marcia\n",
              "8   livro 9      745   Marcia\n",
              "9  livro 10      126    Clara"
            ]
          },
          "execution_count": 34,
          "metadata": {},
          "output_type": "execute_result"
        }
      ],
      "source": [
        "livros_e_classicos = pd.concat([df_livros, df_livros_classicos['autor']], axis=1)\n",
        "livros_e_classicos = livros_e_classicos.reset_index(drop=True)\n",
        "livros_e_classicos"
      ]
    },
    {
      "cell_type": "markdown",
      "metadata": {
        "id": "kfa3BN55AUrX"
      },
      "source": [
        "Faça a junção das bases de livros e livros clássicos apenas com os elementos comuns entre ambos, e adicione chaves para o dataframe de livros e de livros clássicos."
      ]
    },
    {
      "cell_type": "code",
      "execution_count": 35,
      "metadata": {
        "id": "DvoUyayZAU-W"
      },
      "outputs": [
        {
          "data": {
            "text/html": [
              "<div>\n",
              "<style scoped>\n",
              "    .dataframe tbody tr th:only-of-type {\n",
              "        vertical-align: middle;\n",
              "    }\n",
              "\n",
              "    .dataframe tbody tr th {\n",
              "        vertical-align: top;\n",
              "    }\n",
              "\n",
              "    .dataframe thead th {\n",
              "        text-align: right;\n",
              "    }\n",
              "</style>\n",
              "<table border=\"1\" class=\"dataframe\">\n",
              "  <thead>\n",
              "    <tr style=\"text-align: right;\">\n",
              "      <th></th>\n",
              "      <th>nome</th>\n",
              "      <th>paginas</th>\n",
              "      <th>autor</th>\n",
              "    </tr>\n",
              "  </thead>\n",
              "  <tbody>\n",
              "    <tr>\n",
              "      <th>0</th>\n",
              "      <td>livro 1</td>\n",
              "      <td>257</td>\n",
              "      <td>Jorge</td>\n",
              "    </tr>\n",
              "    <tr>\n",
              "      <th>1</th>\n",
              "      <td>livro 2</td>\n",
              "      <td>106</td>\n",
              "      <td>Santos</td>\n",
              "    </tr>\n",
              "    <tr>\n",
              "      <th>2</th>\n",
              "      <td>livro 3</td>\n",
              "      <td>150</td>\n",
              "      <td>Leandro</td>\n",
              "    </tr>\n",
              "    <tr>\n",
              "      <th>3</th>\n",
              "      <td>livro 4</td>\n",
              "      <td>175</td>\n",
              "      <td>Clara</td>\n",
              "    </tr>\n",
              "    <tr>\n",
              "      <th>4</th>\n",
              "      <td>livro 5</td>\n",
              "      <td>321</td>\n",
              "      <td>Flavia</td>\n",
              "    </tr>\n",
              "    <tr>\n",
              "      <th>5</th>\n",
              "      <td>livro 6</td>\n",
              "      <td>159</td>\n",
              "      <td>Leandro</td>\n",
              "    </tr>\n",
              "    <tr>\n",
              "      <th>6</th>\n",
              "      <td>livro 7</td>\n",
              "      <td>980</td>\n",
              "      <td>Santos</td>\n",
              "    </tr>\n",
              "    <tr>\n",
              "      <th>7</th>\n",
              "      <td>livro 8</td>\n",
              "      <td>235</td>\n",
              "      <td>Marcia</td>\n",
              "    </tr>\n",
              "    <tr>\n",
              "      <th>8</th>\n",
              "      <td>livro 9</td>\n",
              "      <td>745</td>\n",
              "      <td>Marcia</td>\n",
              "    </tr>\n",
              "    <tr>\n",
              "      <th>9</th>\n",
              "      <td>livro 10</td>\n",
              "      <td>126</td>\n",
              "      <td>Clara</td>\n",
              "    </tr>\n",
              "  </tbody>\n",
              "</table>\n",
              "</div>"
            ],
            "text/plain": [
              "       nome  paginas    autor\n",
              "0   livro 1      257    Jorge\n",
              "1   livro 2      106   Santos\n",
              "2   livro 3      150  Leandro\n",
              "3   livro 4      175    Clara\n",
              "4   livro 5      321   Flavia\n",
              "5   livro 6      159  Leandro\n",
              "6   livro 7      980   Santos\n",
              "7   livro 8      235   Marcia\n",
              "8   livro 9      745   Marcia\n",
              "9  livro 10      126    Clara"
            ]
          },
          "execution_count": 35,
          "metadata": {},
          "output_type": "execute_result"
        }
      ],
      "source": [
        "comum_livros = pd.merge(df_livros, df_livros_classicos, how='inner', on=['nome'])\n",
        "comum_livros"
      ]
    },
    {
      "cell_type": "markdown",
      "metadata": {
        "id": "s7goRYyXAW-U"
      },
      "source": [
        "Faça a junção das bases de livros e livros clássicos apenas com os elementos comuns entre ambos, e adicione chaves para o dataframe de livros e de livros clássicos, além de nomes para os índices."
      ]
    },
    {
      "cell_type": "code",
      "execution_count": 36,
      "metadata": {
        "id": "XVEyWLV0AXP7"
      },
      "outputs": [
        {
          "name": "stdout",
          "output_type": "stream",
          "text": [
            "Dataframe de Livros:\n",
            "                   nome  paginas  id\n",
            "indice_livros                       \n",
            "0               livro 1      257   1\n",
            "1               livro 2      106   2\n",
            "2               livro 3      150   3\n",
            "3               livro 4      175   4\n",
            "4               livro 5      321   5\n",
            "5               livro 6      159   6\n",
            "6               livro 7      980   7\n",
            "7               livro 8      235   8\n",
            "8               livro 9      745   9\n",
            "9              livro 10      126  10\n",
            "\n",
            "Dataframe de Livros Clássicos:\n",
            "                             nome    autor  id\n",
            "indice_livros_classicos                       \n",
            "0                         livro 1    Jorge   1\n",
            "1                         livro 2   Santos   2\n",
            "2                         livro 3  Leandro   3\n",
            "3                         livro 4    Clara   4\n",
            "4                         livro 5   Flavia   5\n",
            "5                         livro 6  Leandro   6\n",
            "6                         livro 7   Santos   7\n",
            "7                         livro 8   Marcia   8\n",
            "8                         livro 9   Marcia   9\n",
            "9                        livro 10    Clara  10\n",
            "\n",
            "Elementos Comuns Entre Livros e Livros Clássicos:\n",
            "                  nome  paginas  id_x    autor  id_y\n",
            "indice_comum                                        \n",
            "0              livro 1      257     1    Jorge     1\n",
            "1              livro 2      106     2   Santos     2\n",
            "2              livro 3      150     3  Leandro     3\n",
            "3              livro 4      175     4    Clara     4\n",
            "4              livro 5      321     5   Flavia     5\n",
            "5              livro 6      159     6  Leandro     6\n",
            "6              livro 7      980     7   Santos     7\n",
            "7              livro 8      235     8   Marcia     8\n",
            "8              livro 9      745     9   Marcia     9\n",
            "9             livro 10      126    10    Clara    10\n"
          ]
        }
      ],
      "source": [
        "# Adicionando chaves para cada dataframe\n",
        "df_livros['id'] = range(1, len(df_livros) + 1)\n",
        "df_livros_classicos['id'] = range(1, len(df_livros_classicos) + 1)\n",
        "\n",
        "# Nomeando os índices\n",
        "df_livros.index.name = 'indice_livros'\n",
        "df_livros_classicos.index.name = 'indice_livros_classicos'\n",
        "\n",
        "# Realizando a junção (inner join) com os elementos comuns entre ambos\n",
        "comum_livros_mais_indice = pd.merge(df_livros, df_livros_classicos, how='inner', on=['nome'])\n",
        "\n",
        "# Nomeando o índice do dataframe resultante\n",
        "comum_livros_mais_indice.index.name = 'indice_comum'\n",
        "\n",
        "# Mostrando os dataframes resultantes\n",
        "print(\"Dataframe de Livros:\")\n",
        "print(df_livros)\n",
        "\n",
        "print(\"\\nDataframe de Livros Clássicos:\")\n",
        "print(df_livros_classicos)\n",
        "\n",
        "print(\"\\nElementos Comuns Entre Livros e Livros Clássicos:\")\n",
        "print(comum_livros_mais_indice)"
      ]
    },
    {
      "cell_type": "markdown",
      "metadata": {
        "id": "m2sQjkbMAYzK"
      },
      "source": [
        "Faça a junção das bases de dados livros e livros_classicos e verifique a integridade do dataframe resultante."
      ]
    },
    {
      "cell_type": "code",
      "execution_count": 37,
      "metadata": {
        "id": "MCFG5i38AZIf"
      },
      "outputs": [
        {
          "name": "stdout",
          "output_type": "stream",
          "text": [
            "Dataframe de Livros:\n",
            "                   nome  paginas  id\n",
            "indice_livros                       \n",
            "0               livro 1      257   1\n",
            "1               livro 2      106   2\n",
            "2               livro 3      150   3\n",
            "3               livro 4      175   4\n",
            "4               livro 5      321   5\n",
            "5               livro 6      159   6\n",
            "6               livro 7      980   7\n",
            "7               livro 8      235   8\n",
            "8               livro 9      745   9\n",
            "9              livro 10      126  10\n",
            "\n",
            "Dataframe de Livros Clássicos:\n",
            "                             nome    autor  id\n",
            "indice_livros_classicos                       \n",
            "0                         livro 1    Jorge   1\n",
            "1                         livro 2   Santos   2\n",
            "2                         livro 3  Leandro   3\n",
            "3                         livro 4    Clara   4\n",
            "4                         livro 5   Flavia   5\n",
            "5                         livro 6  Leandro   6\n",
            "6                         livro 7   Santos   7\n",
            "7                         livro 8   Marcia   8\n",
            "8                         livro 9   Marcia   9\n",
            "9                        livro 10    Clara  10\n",
            "\n",
            "Elementos Comuns Entre Livros e Livros Clássicos:\n",
            "                  nome  paginas  id_x    autor  id_y\n",
            "indice_comum                                        \n",
            "0              livro 1      257     1    Jorge     1\n",
            "1              livro 2      106     2   Santos     2\n",
            "2              livro 3      150     3  Leandro     3\n",
            "3              livro 4      175     4    Clara     4\n",
            "4              livro 5      321     5   Flavia     5\n",
            "5              livro 6      159     6  Leandro     6\n",
            "6              livro 7      980     7   Santos     7\n",
            "7              livro 8      235     8   Marcia     8\n",
            "8              livro 9      745     9   Marcia     9\n",
            "9             livro 10      126    10    Clara    10\n",
            "\n",
            "Verificação de Integridade do Dataframe Resultante:\n",
            "Valores Nulos: 0\n",
            "Duplicatas: 0\n"
          ]
        }
      ],
      "source": [
        "# Verificando a integridade do dataframe resultante\n",
        "def verificar_integridade(df):\n",
        "    # Verificar se há valores nulos\n",
        "    valores_nulos = df.isnull().sum().sum()\n",
        "\n",
        "    # Verificar se há duplicatas\n",
        "    duplicatas = df.duplicated().sum()\n",
        "\n",
        "    return valores_nulos, duplicatas\n",
        "\n",
        "valores_nulos, duplicatas = verificar_integridade(comum_livros_mais_indice)\n",
        "\n",
        "# Mostrando os dataframes resultantes e verificações de integridade\n",
        "print(\"Dataframe de Livros:\")\n",
        "print(df_livros)\n",
        "\n",
        "print(\"\\nDataframe de Livros Clássicos:\")\n",
        "print(df_livros_classicos)\n",
        "\n",
        "print(\"\\nElementos Comuns Entre Livros e Livros Clássicos:\")\n",
        "print(comum_livros_mais_indice)\n",
        "\n",
        "print(f\"\\nVerificação de Integridade do Dataframe Resultante:\")\n",
        "print(f\"Valores Nulos: {valores_nulos}\")\n",
        "print(f\"Duplicatas: {duplicatas}\")"
      ]
    }
  ],
  "metadata": {
    "colab": {
      "provenance": []
    },
    "kernelspec": {
      "display_name": "Python 3",
      "name": "python3"
    },
    "language_info": {
      "codemirror_mode": {
        "name": "ipython",
        "version": 3
      },
      "file_extension": ".py",
      "mimetype": "text/x-python",
      "name": "python",
      "nbconvert_exporter": "python",
      "pygments_lexer": "ipython3",
      "version": "3.11.7"
    }
  },
  "nbformat": 4,
  "nbformat_minor": 0
}
