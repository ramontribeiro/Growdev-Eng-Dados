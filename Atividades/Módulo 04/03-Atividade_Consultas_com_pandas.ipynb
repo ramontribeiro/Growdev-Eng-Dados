{
 "cells": [
  {
   "cell_type": "markdown",
   "metadata": {},
   "source": [
    "Você já criou o banco de dados, já criou as tabelas e inseriu os dados.\n",
    "Praticamos até aqui a arquitetura de um banco de dados, DDl, DML para criar as tabelas e\n",
    "inserir, deletar e manipular dados dentro do nosso banco."
   ]
  },
  {
   "cell_type": "markdown",
   "metadata": {},
   "source": [
    "# instalações:"
   ]
  },
  {
   "cell_type": "code",
   "execution_count": 2,
   "metadata": {},
   "outputs": [
    {
     "name": "stdout",
     "output_type": "stream",
     "text": [
      "Requirement already satisfied: psycopg2 in ./.venv/lib/python3.12/site-packages (2.9.9)\n",
      "Collecting pandas\n",
      "  Using cached pandas-2.2.2-cp312-cp312-macosx_11_0_arm64.whl.metadata (19 kB)\n",
      "Collecting numpy>=1.26.0 (from pandas)\n",
      "  Using cached numpy-2.0.1-cp312-cp312-macosx_14_0_arm64.whl.metadata (60 kB)\n",
      "Requirement already satisfied: python-dateutil>=2.8.2 in ./.venv/lib/python3.12/site-packages (from pandas) (2.9.0.post0)\n",
      "Collecting pytz>=2020.1 (from pandas)\n",
      "  Using cached pytz-2024.1-py2.py3-none-any.whl.metadata (22 kB)\n",
      "Collecting tzdata>=2022.7 (from pandas)\n",
      "  Using cached tzdata-2024.1-py2.py3-none-any.whl.metadata (1.4 kB)\n",
      "Requirement already satisfied: six>=1.5 in ./.venv/lib/python3.12/site-packages (from python-dateutil>=2.8.2->pandas) (1.16.0)\n",
      "Using cached pandas-2.2.2-cp312-cp312-macosx_11_0_arm64.whl (11.3 MB)\n",
      "Using cached numpy-2.0.1-cp312-cp312-macosx_14_0_arm64.whl (5.0 MB)\n",
      "Using cached pytz-2024.1-py2.py3-none-any.whl (505 kB)\n",
      "Using cached tzdata-2024.1-py2.py3-none-any.whl (345 kB)\n",
      "Installing collected packages: pytz, tzdata, numpy, pandas\n",
      "Successfully installed numpy-2.0.1 pandas-2.2.2 pytz-2024.1 tzdata-2024.1\n",
      "Note: you may need to restart the kernel to use updated packages.\n"
     ]
    }
   ],
   "source": [
    "pip install psycopg2 pandas"
   ]
  },
  {
   "cell_type": "code",
   "execution_count": 6,
   "metadata": {},
   "outputs": [],
   "source": [
    "import psycopg2\n",
    "import pandas as pd"
   ]
  },
  {
   "cell_type": "markdown",
   "metadata": {},
   "source": [
    "#### Se conectar ao banco:"
   ]
  },
  {
   "cell_type": "code",
   "execution_count": 7,
   "metadata": {},
   "outputs": [],
   "source": [
    "# Conectando ao banco de dados\n",
    "conn = psycopg2.connect(\n",
    "    dbname=\"seu_banco_de_dados\",\n",
    "    user=\"seu_usuario\",\n",
    "    password=\"sua_senha\",\n",
    "    host=\"localhost\",  # ou outro host onde seu banco de dados está localizado\n",
    "    port=\"5432\"\n",
    ")\n",
    "\n",
    "cursor = conn.cursor()"
   ]
  },
  {
   "cell_type": "markdown",
   "metadata": {},
   "source": [
    "#### 1. Selecione todos produtos de uma categoria."
   ]
  },
  {
   "cell_type": "code",
   "execution_count": 13,
   "metadata": {},
   "outputs": [],
   "source": [
    "def select_products_by_category(category):\n",
    "    query = \"SELECT * FROM Produtos WHERE Categoria = %s\"\n",
    "    return pd.read_sql(query, conn, params=(category,))"
   ]
  },
  {
   "cell_type": "code",
   "execution_count": 14,
   "metadata": {},
   "outputs": [
    {
     "name": "stderr",
     "output_type": "stream",
     "text": [
      "/var/folders/1q/xq08b0k14gvdn4l2lhcx_7wm0000gn/T/ipykernel_16435/3111866867.py:4: UserWarning: pandas only supports SQLAlchemy connectable (engine/connection) or database string URI or sqlite3 DBAPI2 connection. Other DBAPI2 objects are not tested. Please consider using SQLAlchemy.\n",
      "  return pd.read_sql(query, conn, params=(category,))\n"
     ]
    },
    {
     "data": {
      "text/html": [
       "<div>\n",
       "<style scoped>\n",
       "    .dataframe tbody tr th:only-of-type {\n",
       "        vertical-align: middle;\n",
       "    }\n",
       "\n",
       "    .dataframe tbody tr th {\n",
       "        vertical-align: top;\n",
       "    }\n",
       "\n",
       "    .dataframe thead th {\n",
       "        text-align: right;\n",
       "    }\n",
       "</style>\n",
       "<table border=\"1\" class=\"dataframe\">\n",
       "  <thead>\n",
       "    <tr style=\"text-align: right;\">\n",
       "      <th></th>\n",
       "      <th>id_produto</th>\n",
       "      <th>nome</th>\n",
       "      <th>descricao</th>\n",
       "      <th>preco</th>\n",
       "      <th>estoque</th>\n",
       "      <th>categoria</th>\n",
       "    </tr>\n",
       "  </thead>\n",
       "  <tbody>\n",
       "    <tr>\n",
       "      <th>0</th>\n",
       "      <td>2</td>\n",
       "      <td>key</td>\n",
       "      <td>Me effect detail laugh family perhaps anything...</td>\n",
       "      <td>276.75</td>\n",
       "      <td>90</td>\n",
       "      <td>Eletrônicos</td>\n",
       "    </tr>\n",
       "    <tr>\n",
       "      <th>1</th>\n",
       "      <td>5</td>\n",
       "      <td>institution</td>\n",
       "      <td>Already agency trip.</td>\n",
       "      <td>220.61</td>\n",
       "      <td>84</td>\n",
       "      <td>Eletrônicos</td>\n",
       "    </tr>\n",
       "    <tr>\n",
       "      <th>2</th>\n",
       "      <td>6</td>\n",
       "      <td>bar</td>\n",
       "      <td>Teacher beautiful authority rule.</td>\n",
       "      <td>609.60</td>\n",
       "      <td>71</td>\n",
       "      <td>Eletrônicos</td>\n",
       "    </tr>\n",
       "    <tr>\n",
       "      <th>3</th>\n",
       "      <td>12</td>\n",
       "      <td>identify</td>\n",
       "      <td>Per better nor half.</td>\n",
       "      <td>580.89</td>\n",
       "      <td>16</td>\n",
       "      <td>Eletrônicos</td>\n",
       "    </tr>\n",
       "    <tr>\n",
       "      <th>4</th>\n",
       "      <td>18</td>\n",
       "      <td>impact</td>\n",
       "      <td>Daughter join apply lawyer yet address.</td>\n",
       "      <td>558.72</td>\n",
       "      <td>85</td>\n",
       "      <td>Eletrônicos</td>\n",
       "    </tr>\n",
       "  </tbody>\n",
       "</table>\n",
       "</div>"
      ],
      "text/plain": [
       "   id_produto         nome                                          descricao  \\\n",
       "0           2          key  Me effect detail laugh family perhaps anything...   \n",
       "1           5  institution                               Already agency trip.   \n",
       "2           6          bar                  Teacher beautiful authority rule.   \n",
       "3          12     identify                               Per better nor half.   \n",
       "4          18       impact            Daughter join apply lawyer yet address.   \n",
       "\n",
       "    preco  estoque    categoria  \n",
       "0  276.75       90  Eletrônicos  \n",
       "1  220.61       84  Eletrônicos  \n",
       "2  609.60       71  Eletrônicos  \n",
       "3  580.89       16  Eletrônicos  \n",
       "4  558.72       85  Eletrônicos  "
      ]
     },
     "execution_count": 14,
     "metadata": {},
     "output_type": "execute_result"
    }
   ],
   "source": [
    "select_products_by_category('Eletrônicos').head()"
   ]
  },
  {
   "cell_type": "markdown",
   "metadata": {},
   "source": [
    "#### 2. Nome e endereço dos clientes que fizeram um pedido em 2024"
   ]
  },
  {
   "cell_type": "code",
   "execution_count": 15,
   "metadata": {},
   "outputs": [],
   "source": [
    "def select_clients_orders_2024():\n",
    "    query = \"\"\"\n",
    "    SELECT c.Nome, c.Endereco\n",
    "    FROM Clientes c\n",
    "    JOIN Pedidos p ON c.ID_Cliente = p.ID_Cliente\n",
    "    WHERE EXTRACT(YEAR FROM p.Data_Pedido) = 2024\n",
    "    \"\"\"\n",
    "    return pd.read_sql(query, conn)"
   ]
  },
  {
   "cell_type": "code",
   "execution_count": 17,
   "metadata": {},
   "outputs": [
    {
     "name": "stderr",
     "output_type": "stream",
     "text": [
      "/var/folders/1q/xq08b0k14gvdn4l2lhcx_7wm0000gn/T/ipykernel_16435/2167292931.py:8: UserWarning: pandas only supports SQLAlchemy connectable (engine/connection) or database string URI or sqlite3 DBAPI2 connection. Other DBAPI2 objects are not tested. Please consider using SQLAlchemy.\n",
      "  return pd.read_sql(query, conn)\n"
     ]
    },
    {
     "data": {
      "text/html": [
       "<div>\n",
       "<style scoped>\n",
       "    .dataframe tbody tr th:only-of-type {\n",
       "        vertical-align: middle;\n",
       "    }\n",
       "\n",
       "    .dataframe tbody tr th {\n",
       "        vertical-align: top;\n",
       "    }\n",
       "\n",
       "    .dataframe thead th {\n",
       "        text-align: right;\n",
       "    }\n",
       "</style>\n",
       "<table border=\"1\" class=\"dataframe\">\n",
       "  <thead>\n",
       "    <tr style=\"text-align: right;\">\n",
       "      <th></th>\n",
       "      <th>nome</th>\n",
       "      <th>endereco</th>\n",
       "    </tr>\n",
       "  </thead>\n",
       "  <tbody>\n",
       "    <tr>\n",
       "      <th>0</th>\n",
       "      <td>David Rhodes</td>\n",
       "      <td>67678 Castillo Ports Suite 690\\nWest Richardla...</td>\n",
       "    </tr>\n",
       "    <tr>\n",
       "      <th>1</th>\n",
       "      <td>Jake Vasquez</td>\n",
       "      <td>PSC 3250, Box 0193\\nAPO AP 85313</td>\n",
       "    </tr>\n",
       "    <tr>\n",
       "      <th>2</th>\n",
       "      <td>James Daniels</td>\n",
       "      <td>691 Richard Flat Apt. 564\\nAlicialand, IA 32372</td>\n",
       "    </tr>\n",
       "    <tr>\n",
       "      <th>3</th>\n",
       "      <td>Krista Singleton</td>\n",
       "      <td>19052 Kimberly Drive\\nNorth Melissa, RI 75545</td>\n",
       "    </tr>\n",
       "    <tr>\n",
       "      <th>4</th>\n",
       "      <td>Lisa Murray</td>\n",
       "      <td>5251 Jason Flats Apt. 454\\nScottville, TX 41331</td>\n",
       "    </tr>\n",
       "  </tbody>\n",
       "</table>\n",
       "</div>"
      ],
      "text/plain": [
       "               nome                                           endereco\n",
       "0      David Rhodes  67678 Castillo Ports Suite 690\\nWest Richardla...\n",
       "1      Jake Vasquez                   PSC 3250, Box 0193\\nAPO AP 85313\n",
       "2     James Daniels    691 Richard Flat Apt. 564\\nAlicialand, IA 32372\n",
       "3  Krista Singleton      19052 Kimberly Drive\\nNorth Melissa, RI 75545\n",
       "4       Lisa Murray    5251 Jason Flats Apt. 454\\nScottville, TX 41331"
      ]
     },
     "execution_count": 17,
     "metadata": {},
     "output_type": "execute_result"
    }
   ],
   "source": [
    "select_clients_orders_2024().head()"
   ]
  },
  {
   "cell_type": "markdown",
   "metadata": {},
   "source": [
    "#### 3. Produtos com preço entre 50 e 100:"
   ]
  },
  {
   "cell_type": "code",
   "execution_count": 18,
   "metadata": {},
   "outputs": [],
   "source": [
    "def select_products_price_range():\n",
    "    query = \"SELECT * FROM Produtos WHERE Preco BETWEEN 50 AND 100\"\n",
    "    return pd.read_sql(query, conn)"
   ]
  },
  {
   "cell_type": "code",
   "execution_count": 19,
   "metadata": {},
   "outputs": [
    {
     "name": "stderr",
     "output_type": "stream",
     "text": [
      "/var/folders/1q/xq08b0k14gvdn4l2lhcx_7wm0000gn/T/ipykernel_16435/2875031338.py:3: UserWarning: pandas only supports SQLAlchemy connectable (engine/connection) or database string URI or sqlite3 DBAPI2 connection. Other DBAPI2 objects are not tested. Please consider using SQLAlchemy.\n",
      "  return pd.read_sql(query, conn)\n"
     ]
    },
    {
     "data": {
      "text/html": [
       "<div>\n",
       "<style scoped>\n",
       "    .dataframe tbody tr th:only-of-type {\n",
       "        vertical-align: middle;\n",
       "    }\n",
       "\n",
       "    .dataframe tbody tr th {\n",
       "        vertical-align: top;\n",
       "    }\n",
       "\n",
       "    .dataframe thead th {\n",
       "        text-align: right;\n",
       "    }\n",
       "</style>\n",
       "<table border=\"1\" class=\"dataframe\">\n",
       "  <thead>\n",
       "    <tr style=\"text-align: right;\">\n",
       "      <th></th>\n",
       "      <th>id_produto</th>\n",
       "      <th>nome</th>\n",
       "      <th>descricao</th>\n",
       "      <th>preco</th>\n",
       "      <th>estoque</th>\n",
       "      <th>categoria</th>\n",
       "    </tr>\n",
       "  </thead>\n",
       "  <tbody>\n",
       "    <tr>\n",
       "      <th>0</th>\n",
       "      <td>29</td>\n",
       "      <td>outside</td>\n",
       "      <td>Indeed this up.</td>\n",
       "      <td>56.53</td>\n",
       "      <td>35</td>\n",
       "      <td>Livros</td>\n",
       "    </tr>\n",
       "    <tr>\n",
       "      <th>1</th>\n",
       "      <td>38</td>\n",
       "      <td>fall</td>\n",
       "      <td>Hotel across others include owner help single.</td>\n",
       "      <td>55.38</td>\n",
       "      <td>43</td>\n",
       "      <td>Móveis</td>\n",
       "    </tr>\n",
       "    <tr>\n",
       "      <th>2</th>\n",
       "      <td>43</td>\n",
       "      <td>teach</td>\n",
       "      <td>Ground director hear about stuff suddenly.</td>\n",
       "      <td>98.36</td>\n",
       "      <td>48</td>\n",
       "      <td>Eletrônicos</td>\n",
       "    </tr>\n",
       "    <tr>\n",
       "      <th>3</th>\n",
       "      <td>61</td>\n",
       "      <td>operation</td>\n",
       "      <td>Lay write where behavior.</td>\n",
       "      <td>98.85</td>\n",
       "      <td>67</td>\n",
       "      <td>Alimentos</td>\n",
       "    </tr>\n",
       "    <tr>\n",
       "      <th>4</th>\n",
       "      <td>83</td>\n",
       "      <td>summer</td>\n",
       "      <td>Party operation window rate body.</td>\n",
       "      <td>64.65</td>\n",
       "      <td>93</td>\n",
       "      <td>Eletrônicos</td>\n",
       "    </tr>\n",
       "  </tbody>\n",
       "</table>\n",
       "</div>"
      ],
      "text/plain": [
       "   id_produto       nome                                       descricao  \\\n",
       "0          29    outside                                 Indeed this up.   \n",
       "1          38       fall  Hotel across others include owner help single.   \n",
       "2          43      teach      Ground director hear about stuff suddenly.   \n",
       "3          61  operation                       Lay write where behavior.   \n",
       "4          83     summer               Party operation window rate body.   \n",
       "\n",
       "   preco  estoque    categoria  \n",
       "0  56.53       35       Livros  \n",
       "1  55.38       43       Móveis  \n",
       "2  98.36       48  Eletrônicos  \n",
       "3  98.85       67    Alimentos  \n",
       "4  64.65       93  Eletrônicos  "
      ]
     },
     "execution_count": 19,
     "metadata": {},
     "output_type": "execute_result"
    }
   ],
   "source": [
    "select_products_price_range().head()"
   ]
  },
  {
   "cell_type": "markdown",
   "metadata": {},
   "source": [
    "#### 4. Número total de pedidos feitos em julho de 2024:"
   ]
  },
  {
   "cell_type": "code",
   "execution_count": 20,
   "metadata": {},
   "outputs": [],
   "source": [
    "def count_orders_july_2024():\n",
    "    query = \"\"\"\n",
    "    SELECT COUNT(*) AS Total_Pedidos\n",
    "    FROM Pedidos\n",
    "    WHERE EXTRACT(YEAR FROM Data_Pedido) = 2024\n",
    "      AND EXTRACT(MONTH FROM Data_Pedido) = 7\n",
    "    \"\"\"\n",
    "    return pd.read_sql(query, conn)"
   ]
  },
  {
   "cell_type": "code",
   "execution_count": 22,
   "metadata": {},
   "outputs": [
    {
     "name": "stderr",
     "output_type": "stream",
     "text": [
      "/var/folders/1q/xq08b0k14gvdn4l2lhcx_7wm0000gn/T/ipykernel_16435/1948062717.py:8: UserWarning: pandas only supports SQLAlchemy connectable (engine/connection) or database string URI or sqlite3 DBAPI2 connection. Other DBAPI2 objects are not tested. Please consider using SQLAlchemy.\n",
      "  return pd.read_sql(query, conn)\n"
     ]
    },
    {
     "data": {
      "text/html": [
       "<div>\n",
       "<style scoped>\n",
       "    .dataframe tbody tr th:only-of-type {\n",
       "        vertical-align: middle;\n",
       "    }\n",
       "\n",
       "    .dataframe tbody tr th {\n",
       "        vertical-align: top;\n",
       "    }\n",
       "\n",
       "    .dataframe thead th {\n",
       "        text-align: right;\n",
       "    }\n",
       "</style>\n",
       "<table border=\"1\" class=\"dataframe\">\n",
       "  <thead>\n",
       "    <tr style=\"text-align: right;\">\n",
       "      <th></th>\n",
       "      <th>total_pedidos</th>\n",
       "    </tr>\n",
       "  </thead>\n",
       "  <tbody>\n",
       "    <tr>\n",
       "      <th>0</th>\n",
       "      <td>856</td>\n",
       "    </tr>\n",
       "  </tbody>\n",
       "</table>\n",
       "</div>"
      ],
      "text/plain": [
       "   total_pedidos\n",
       "0            856"
      ]
     },
     "execution_count": 22,
     "metadata": {},
     "output_type": "execute_result"
    }
   ],
   "source": [
    "count_orders_july_2024()"
   ]
  },
  {
   "cell_type": "markdown",
   "metadata": {},
   "source": [
    "#### 5. Total pago por cada pedido:"
   ]
  },
  {
   "cell_type": "code",
   "execution_count": 23,
   "metadata": {},
   "outputs": [],
   "source": [
    "def total_paid_per_order():\n",
    "    query = \"SELECT ID_Pedido, SUM(Valor_Pago) AS Total_Pago FROM Pagamentos GROUP BY ID_Pedido\"\n",
    "    return pd.read_sql(query, conn)"
   ]
  },
  {
   "cell_type": "code",
   "execution_count": 25,
   "metadata": {},
   "outputs": [
    {
     "name": "stderr",
     "output_type": "stream",
     "text": [
      "/var/folders/1q/xq08b0k14gvdn4l2lhcx_7wm0000gn/T/ipykernel_16435/715912921.py:3: UserWarning: pandas only supports SQLAlchemy connectable (engine/connection) or database string URI or sqlite3 DBAPI2 connection. Other DBAPI2 objects are not tested. Please consider using SQLAlchemy.\n",
      "  return pd.read_sql(query, conn)\n"
     ]
    },
    {
     "data": {
      "text/html": [
       "<div>\n",
       "<style scoped>\n",
       "    .dataframe tbody tr th:only-of-type {\n",
       "        vertical-align: middle;\n",
       "    }\n",
       "\n",
       "    .dataframe tbody tr th {\n",
       "        vertical-align: top;\n",
       "    }\n",
       "\n",
       "    .dataframe thead th {\n",
       "        text-align: right;\n",
       "    }\n",
       "</style>\n",
       "<table border=\"1\" class=\"dataframe\">\n",
       "  <thead>\n",
       "    <tr style=\"text-align: right;\">\n",
       "      <th></th>\n",
       "      <th>id_pedido</th>\n",
       "      <th>total_pago</th>\n",
       "    </tr>\n",
       "  </thead>\n",
       "  <tbody>\n",
       "    <tr>\n",
       "      <th>0</th>\n",
       "      <td>1489</td>\n",
       "      <td>1523.24</td>\n",
       "    </tr>\n",
       "    <tr>\n",
       "      <th>1</th>\n",
       "      <td>3936</td>\n",
       "      <td>3496.21</td>\n",
       "    </tr>\n",
       "    <tr>\n",
       "      <th>2</th>\n",
       "      <td>2574</td>\n",
       "      <td>2831.54</td>\n",
       "    </tr>\n",
       "    <tr>\n",
       "      <th>3</th>\n",
       "      <td>951</td>\n",
       "      <td>4080.79</td>\n",
       "    </tr>\n",
       "    <tr>\n",
       "      <th>4</th>\n",
       "      <td>5761</td>\n",
       "      <td>883.46</td>\n",
       "    </tr>\n",
       "  </tbody>\n",
       "</table>\n",
       "</div>"
      ],
      "text/plain": [
       "   id_pedido  total_pago\n",
       "0       1489     1523.24\n",
       "1       3936     3496.21\n",
       "2       2574     2831.54\n",
       "3        951     4080.79\n",
       "4       5761      883.46"
      ]
     },
     "execution_count": 25,
     "metadata": {},
     "output_type": "execute_result"
    }
   ],
   "source": [
    "total_paid_per_order().head()"
   ]
  },
  {
   "cell_type": "markdown",
   "metadata": {},
   "source": [
    "#### 6. Nome dos clientes e valor total dos seus pedidos"
   ]
  },
  {
   "cell_type": "code",
   "execution_count": 26,
   "metadata": {},
   "outputs": [],
   "source": [
    "def total_value_per_client():\n",
    "    query = \"\"\"\n",
    "    SELECT c.Nome, SUM(p.Valor_Total) AS Total_Pedido\n",
    "    FROM Clientes c\n",
    "    JOIN Pedidos p ON c.ID_Cliente = p.ID_Cliente\n",
    "    GROUP BY c.Nome\n",
    "    \"\"\"\n",
    "    return pd.read_sql(query, conn)"
   ]
  },
  {
   "cell_type": "code",
   "execution_count": 28,
   "metadata": {},
   "outputs": [
    {
     "name": "stderr",
     "output_type": "stream",
     "text": [
      "/var/folders/1q/xq08b0k14gvdn4l2lhcx_7wm0000gn/T/ipykernel_16435/3781204404.py:8: UserWarning: pandas only supports SQLAlchemy connectable (engine/connection) or database string URI or sqlite3 DBAPI2 connection. Other DBAPI2 objects are not tested. Please consider using SQLAlchemy.\n",
      "  return pd.read_sql(query, conn)\n"
     ]
    },
    {
     "data": {
      "text/html": [
       "<div>\n",
       "<style scoped>\n",
       "    .dataframe tbody tr th:only-of-type {\n",
       "        vertical-align: middle;\n",
       "    }\n",
       "\n",
       "    .dataframe tbody tr th {\n",
       "        vertical-align: top;\n",
       "    }\n",
       "\n",
       "    .dataframe thead th {\n",
       "        text-align: right;\n",
       "    }\n",
       "</style>\n",
       "<table border=\"1\" class=\"dataframe\">\n",
       "  <thead>\n",
       "    <tr style=\"text-align: right;\">\n",
       "      <th></th>\n",
       "      <th>nome</th>\n",
       "      <th>total_pedido</th>\n",
       "    </tr>\n",
       "  </thead>\n",
       "  <tbody>\n",
       "    <tr>\n",
       "      <th>0</th>\n",
       "      <td>Brandon Jackson</td>\n",
       "      <td>4558.02</td>\n",
       "    </tr>\n",
       "    <tr>\n",
       "      <th>1</th>\n",
       "      <td>Victor Henderson</td>\n",
       "      <td>95.68</td>\n",
       "    </tr>\n",
       "    <tr>\n",
       "      <th>2</th>\n",
       "      <td>Erica Collins</td>\n",
       "      <td>9102.12</td>\n",
       "    </tr>\n",
       "    <tr>\n",
       "      <th>3</th>\n",
       "      <td>Natasha Sosa</td>\n",
       "      <td>6515.12</td>\n",
       "    </tr>\n",
       "    <tr>\n",
       "      <th>4</th>\n",
       "      <td>Amy Mitchell</td>\n",
       "      <td>11409.74</td>\n",
       "    </tr>\n",
       "  </tbody>\n",
       "</table>\n",
       "</div>"
      ],
      "text/plain": [
       "               nome  total_pedido\n",
       "0   Brandon Jackson       4558.02\n",
       "1  Victor Henderson         95.68\n",
       "2     Erica Collins       9102.12\n",
       "3      Natasha Sosa       6515.12\n",
       "4      Amy Mitchell      11409.74"
      ]
     },
     "execution_count": 28,
     "metadata": {},
     "output_type": "execute_result"
    }
   ],
   "source": [
    "total_value_per_client().head()"
   ]
  },
  {
   "cell_type": "markdown",
   "metadata": {},
   "source": [
    "#### 7. Produtos com estoque menor que 10:"
   ]
  },
  {
   "cell_type": "code",
   "execution_count": 29,
   "metadata": {},
   "outputs": [],
   "source": [
    "def products_low_stock():\n",
    "    query = \"SELECT * FROM Produtos WHERE Estoque < 10\"\n",
    "    return pd.read_sql(query, conn)"
   ]
  },
  {
   "cell_type": "code",
   "execution_count": 30,
   "metadata": {},
   "outputs": [
    {
     "name": "stderr",
     "output_type": "stream",
     "text": [
      "/var/folders/1q/xq08b0k14gvdn4l2lhcx_7wm0000gn/T/ipykernel_16435/2642821584.py:3: UserWarning: pandas only supports SQLAlchemy connectable (engine/connection) or database string URI or sqlite3 DBAPI2 connection. Other DBAPI2 objects are not tested. Please consider using SQLAlchemy.\n",
      "  return pd.read_sql(query, conn)\n"
     ]
    },
    {
     "data": {
      "text/html": [
       "<div>\n",
       "<style scoped>\n",
       "    .dataframe tbody tr th:only-of-type {\n",
       "        vertical-align: middle;\n",
       "    }\n",
       "\n",
       "    .dataframe tbody tr th {\n",
       "        vertical-align: top;\n",
       "    }\n",
       "\n",
       "    .dataframe thead th {\n",
       "        text-align: right;\n",
       "    }\n",
       "</style>\n",
       "<table border=\"1\" class=\"dataframe\">\n",
       "  <thead>\n",
       "    <tr style=\"text-align: right;\">\n",
       "      <th></th>\n",
       "      <th>id_produto</th>\n",
       "      <th>nome</th>\n",
       "      <th>descricao</th>\n",
       "      <th>preco</th>\n",
       "      <th>estoque</th>\n",
       "      <th>categoria</th>\n",
       "    </tr>\n",
       "  </thead>\n",
       "  <tbody>\n",
       "    <tr>\n",
       "      <th>0</th>\n",
       "      <td>7</td>\n",
       "      <td>very</td>\n",
       "      <td>Certainly smile why large.</td>\n",
       "      <td>19.78</td>\n",
       "      <td>2</td>\n",
       "      <td>Roupas</td>\n",
       "    </tr>\n",
       "    <tr>\n",
       "      <th>1</th>\n",
       "      <td>9</td>\n",
       "      <td>yeah</td>\n",
       "      <td>Along impact build center moment.</td>\n",
       "      <td>482.39</td>\n",
       "      <td>3</td>\n",
       "      <td>Roupas</td>\n",
       "    </tr>\n",
       "    <tr>\n",
       "      <th>2</th>\n",
       "      <td>24</td>\n",
       "      <td>option</td>\n",
       "      <td>People social visit age consumer.</td>\n",
       "      <td>203.51</td>\n",
       "      <td>3</td>\n",
       "      <td>Roupas</td>\n",
       "    </tr>\n",
       "    <tr>\n",
       "      <th>3</th>\n",
       "      <td>42</td>\n",
       "      <td>should</td>\n",
       "      <td>Choose finish information air book today.</td>\n",
       "      <td>500.89</td>\n",
       "      <td>6</td>\n",
       "      <td>Roupas</td>\n",
       "    </tr>\n",
       "    <tr>\n",
       "      <th>4</th>\n",
       "      <td>44</td>\n",
       "      <td>despite</td>\n",
       "      <td>Its improve avoid power.</td>\n",
       "      <td>766.17</td>\n",
       "      <td>1</td>\n",
       "      <td>Alimentos</td>\n",
       "    </tr>\n",
       "  </tbody>\n",
       "</table>\n",
       "</div>"
      ],
      "text/plain": [
       "   id_produto     nome                                  descricao   preco  \\\n",
       "0           7     very                 Certainly smile why large.   19.78   \n",
       "1           9     yeah          Along impact build center moment.  482.39   \n",
       "2          24   option          People social visit age consumer.  203.51   \n",
       "3          42   should  Choose finish information air book today.  500.89   \n",
       "4          44  despite                   Its improve avoid power.  766.17   \n",
       "\n",
       "   estoque  categoria  \n",
       "0        2     Roupas  \n",
       "1        3     Roupas  \n",
       "2        3     Roupas  \n",
       "3        6     Roupas  \n",
       "4        1  Alimentos  "
      ]
     },
     "execution_count": 30,
     "metadata": {},
     "output_type": "execute_result"
    }
   ],
   "source": [
    "products_low_stock().head()"
   ]
  },
  {
   "cell_type": "markdown",
   "metadata": {},
   "source": [
    "#### 8. Pedidos com status e quantidade de itens em cada pedido:"
   ]
  },
  {
   "cell_type": "code",
   "execution_count": 31,
   "metadata": {},
   "outputs": [],
   "source": [
    "def orders_with_item_count():\n",
    "    query = \"\"\"\n",
    "    SELECT p.ID_Pedido, p.Status, COUNT(i.ID_Item) AS Quantidade_Itens\n",
    "    FROM Pedidos p\n",
    "    JOIN Itens_Pedido i ON p.ID_Pedido = i.ID_Pedido\n",
    "    GROUP BY p.ID_Pedido, p.Status\n",
    "    \"\"\"\n",
    "    return pd.read_sql(query, conn)"
   ]
  },
  {
   "cell_type": "code",
   "execution_count": 32,
   "metadata": {},
   "outputs": [
    {
     "name": "stderr",
     "output_type": "stream",
     "text": [
      "/var/folders/1q/xq08b0k14gvdn4l2lhcx_7wm0000gn/T/ipykernel_16435/716184307.py:8: UserWarning: pandas only supports SQLAlchemy connectable (engine/connection) or database string URI or sqlite3 DBAPI2 connection. Other DBAPI2 objects are not tested. Please consider using SQLAlchemy.\n",
      "  return pd.read_sql(query, conn)\n"
     ]
    },
    {
     "data": {
      "text/html": [
       "<div>\n",
       "<style scoped>\n",
       "    .dataframe tbody tr th:only-of-type {\n",
       "        vertical-align: middle;\n",
       "    }\n",
       "\n",
       "    .dataframe tbody tr th {\n",
       "        vertical-align: top;\n",
       "    }\n",
       "\n",
       "    .dataframe thead th {\n",
       "        text-align: right;\n",
       "    }\n",
       "</style>\n",
       "<table border=\"1\" class=\"dataframe\">\n",
       "  <thead>\n",
       "    <tr style=\"text-align: right;\">\n",
       "      <th></th>\n",
       "      <th>id_pedido</th>\n",
       "      <th>status</th>\n",
       "      <th>quantidade_itens</th>\n",
       "    </tr>\n",
       "  </thead>\n",
       "  <tbody>\n",
       "    <tr>\n",
       "      <th>0</th>\n",
       "      <td>3936</td>\n",
       "      <td>Pendente</td>\n",
       "      <td>1</td>\n",
       "    </tr>\n",
       "    <tr>\n",
       "      <th>1</th>\n",
       "      <td>5761</td>\n",
       "      <td>Concluído</td>\n",
       "      <td>2</td>\n",
       "    </tr>\n",
       "    <tr>\n",
       "      <th>2</th>\n",
       "      <td>5468</td>\n",
       "      <td>Cancelado</td>\n",
       "      <td>1</td>\n",
       "    </tr>\n",
       "    <tr>\n",
       "      <th>3</th>\n",
       "      <td>7662</td>\n",
       "      <td>Cancelado</td>\n",
       "      <td>1</td>\n",
       "    </tr>\n",
       "    <tr>\n",
       "      <th>4</th>\n",
       "      <td>4326</td>\n",
       "      <td>Concluído</td>\n",
       "      <td>2</td>\n",
       "    </tr>\n",
       "  </tbody>\n",
       "</table>\n",
       "</div>"
      ],
      "text/plain": [
       "   id_pedido     status  quantidade_itens\n",
       "0       3936   Pendente                 1\n",
       "1       5761  Concluído                 2\n",
       "2       5468  Cancelado                 1\n",
       "3       7662  Cancelado                 1\n",
       "4       4326  Concluído                 2"
      ]
     },
     "execution_count": 32,
     "metadata": {},
     "output_type": "execute_result"
    }
   ],
   "source": [
    "orders_with_item_count().head()"
   ]
  },
  {
   "cell_type": "markdown",
   "metadata": {},
   "source": [
    "#### 9. Produtos que não foram vendidos em nenhum pedido:"
   ]
  },
  {
   "cell_type": "code",
   "execution_count": 33,
   "metadata": {},
   "outputs": [],
   "source": [
    "def unsold_products():\n",
    "    query = \"\"\"\n",
    "    SELECT * FROM Produtos\n",
    "    WHERE ID_Produto NOT IN (\n",
    "        SELECT DISTINCT ID_Produto\n",
    "        FROM Itens_Pedido\n",
    "    )\n",
    "    \"\"\"\n",
    "    return pd.read_sql(query, conn)"
   ]
  },
  {
   "cell_type": "code",
   "execution_count": 35,
   "metadata": {},
   "outputs": [
    {
     "name": "stderr",
     "output_type": "stream",
     "text": [
      "/var/folders/1q/xq08b0k14gvdn4l2lhcx_7wm0000gn/T/ipykernel_16435/2977922777.py:9: UserWarning: pandas only supports SQLAlchemy connectable (engine/connection) or database string URI or sqlite3 DBAPI2 connection. Other DBAPI2 objects are not tested. Please consider using SQLAlchemy.\n",
      "  return pd.read_sql(query, conn)\n"
     ]
    },
    {
     "data": {
      "text/html": [
       "<div>\n",
       "<style scoped>\n",
       "    .dataframe tbody tr th:only-of-type {\n",
       "        vertical-align: middle;\n",
       "    }\n",
       "\n",
       "    .dataframe tbody tr th {\n",
       "        vertical-align: top;\n",
       "    }\n",
       "\n",
       "    .dataframe thead th {\n",
       "        text-align: right;\n",
       "    }\n",
       "</style>\n",
       "<table border=\"1\" class=\"dataframe\">\n",
       "  <thead>\n",
       "    <tr style=\"text-align: right;\">\n",
       "      <th></th>\n",
       "      <th>id_produto</th>\n",
       "      <th>nome</th>\n",
       "      <th>descricao</th>\n",
       "      <th>preco</th>\n",
       "      <th>estoque</th>\n",
       "      <th>categoria</th>\n",
       "    </tr>\n",
       "  </thead>\n",
       "  <tbody>\n",
       "    <tr>\n",
       "      <th>0</th>\n",
       "      <td>1</td>\n",
       "      <td>another</td>\n",
       "      <td>Take life win its without today.</td>\n",
       "      <td>627.23</td>\n",
       "      <td>20</td>\n",
       "      <td>Roupas</td>\n",
       "    </tr>\n",
       "    <tr>\n",
       "      <th>1</th>\n",
       "      <td>2</td>\n",
       "      <td>key</td>\n",
       "      <td>Me effect detail laugh family perhaps anything...</td>\n",
       "      <td>276.75</td>\n",
       "      <td>90</td>\n",
       "      <td>Eletrônicos</td>\n",
       "    </tr>\n",
       "    <tr>\n",
       "      <th>2</th>\n",
       "      <td>3</td>\n",
       "      <td>kind</td>\n",
       "      <td>Two leg here opportunity long.</td>\n",
       "      <td>254.76</td>\n",
       "      <td>99</td>\n",
       "      <td>Livros</td>\n",
       "    </tr>\n",
       "    <tr>\n",
       "      <th>3</th>\n",
       "      <td>4</td>\n",
       "      <td>data</td>\n",
       "      <td>Economy charge recognize bad develop detail.</td>\n",
       "      <td>389.65</td>\n",
       "      <td>67</td>\n",
       "      <td>Roupas</td>\n",
       "    </tr>\n",
       "    <tr>\n",
       "      <th>4</th>\n",
       "      <td>5</td>\n",
       "      <td>institution</td>\n",
       "      <td>Already agency trip.</td>\n",
       "      <td>220.61</td>\n",
       "      <td>84</td>\n",
       "      <td>Eletrônicos</td>\n",
       "    </tr>\n",
       "  </tbody>\n",
       "</table>\n",
       "</div>"
      ],
      "text/plain": [
       "   id_produto         nome                                          descricao  \\\n",
       "0           1      another                   Take life win its without today.   \n",
       "1           2          key  Me effect detail laugh family perhaps anything...   \n",
       "2           3         kind                     Two leg here opportunity long.   \n",
       "3           4         data       Economy charge recognize bad develop detail.   \n",
       "4           5  institution                               Already agency trip.   \n",
       "\n",
       "    preco  estoque    categoria  \n",
       "0  627.23       20       Roupas  \n",
       "1  276.75       90  Eletrônicos  \n",
       "2  254.76       99       Livros  \n",
       "3  389.65       67       Roupas  \n",
       "4  220.61       84  Eletrônicos  "
      ]
     },
     "execution_count": 35,
     "metadata": {},
     "output_type": "execute_result"
    }
   ],
   "source": [
    "unsold_products().head()"
   ]
  },
  {
   "cell_type": "markdown",
   "metadata": {},
   "source": [
    "#### 10. Os 10 maiores clientes por quantidade de pedidos:"
   ]
  },
  {
   "cell_type": "code",
   "execution_count": 36,
   "metadata": {},
   "outputs": [],
   "source": [
    "def top_10_clients_by_orders():\n",
    "    query = \"\"\"\n",
    "    SELECT c.Nome, COUNT(p.ID_Pedido) AS Quantidade_Pedidos\n",
    "    FROM Clientes c\n",
    "    JOIN Pedidos p ON c.ID_Cliente = p.ID_Cliente\n",
    "    GROUP BY c.Nome\n",
    "    ORDER BY Quantidade_Pedidos DESC\n",
    "    LIMIT 10\n",
    "    \"\"\"\n",
    "    return pd.read_sql(query, conn)"
   ]
  },
  {
   "cell_type": "code",
   "execution_count": 38,
   "metadata": {},
   "outputs": [
    {
     "name": "stderr",
     "output_type": "stream",
     "text": [
      "/var/folders/1q/xq08b0k14gvdn4l2lhcx_7wm0000gn/T/ipykernel_16435/4220099528.py:10: UserWarning: pandas only supports SQLAlchemy connectable (engine/connection) or database string URI or sqlite3 DBAPI2 connection. Other DBAPI2 objects are not tested. Please consider using SQLAlchemy.\n",
      "  return pd.read_sql(query, conn)\n"
     ]
    },
    {
     "data": {
      "text/html": [
       "<div>\n",
       "<style scoped>\n",
       "    .dataframe tbody tr th:only-of-type {\n",
       "        vertical-align: middle;\n",
       "    }\n",
       "\n",
       "    .dataframe tbody tr th {\n",
       "        vertical-align: top;\n",
       "    }\n",
       "\n",
       "    .dataframe thead th {\n",
       "        text-align: right;\n",
       "    }\n",
       "</style>\n",
       "<table border=\"1\" class=\"dataframe\">\n",
       "  <thead>\n",
       "    <tr style=\"text-align: right;\">\n",
       "      <th></th>\n",
       "      <th>nome</th>\n",
       "      <th>quantidade_pedidos</th>\n",
       "    </tr>\n",
       "  </thead>\n",
       "  <tbody>\n",
       "    <tr>\n",
       "      <th>0</th>\n",
       "      <td>Michael Brown</td>\n",
       "      <td>10</td>\n",
       "    </tr>\n",
       "    <tr>\n",
       "      <th>1</th>\n",
       "      <td>James Smith</td>\n",
       "      <td>8</td>\n",
       "    </tr>\n",
       "    <tr>\n",
       "      <th>2</th>\n",
       "      <td>Timothy Taylor</td>\n",
       "      <td>7</td>\n",
       "    </tr>\n",
       "    <tr>\n",
       "      <th>3</th>\n",
       "      <td>James Williams</td>\n",
       "      <td>7</td>\n",
       "    </tr>\n",
       "    <tr>\n",
       "      <th>4</th>\n",
       "      <td>Matthew Williams</td>\n",
       "      <td>6</td>\n",
       "    </tr>\n",
       "    <tr>\n",
       "      <th>5</th>\n",
       "      <td>William Smith</td>\n",
       "      <td>6</td>\n",
       "    </tr>\n",
       "    <tr>\n",
       "      <th>6</th>\n",
       "      <td>Thomas Smith</td>\n",
       "      <td>6</td>\n",
       "    </tr>\n",
       "    <tr>\n",
       "      <th>7</th>\n",
       "      <td>Michael Smith</td>\n",
       "      <td>6</td>\n",
       "    </tr>\n",
       "    <tr>\n",
       "      <th>8</th>\n",
       "      <td>Lisa Johnson</td>\n",
       "      <td>5</td>\n",
       "    </tr>\n",
       "    <tr>\n",
       "      <th>9</th>\n",
       "      <td>Edward Moore</td>\n",
       "      <td>5</td>\n",
       "    </tr>\n",
       "  </tbody>\n",
       "</table>\n",
       "</div>"
      ],
      "text/plain": [
       "               nome  quantidade_pedidos\n",
       "0     Michael Brown                  10\n",
       "1       James Smith                   8\n",
       "2    Timothy Taylor                   7\n",
       "3    James Williams                   7\n",
       "4  Matthew Williams                   6\n",
       "5     William Smith                   6\n",
       "6      Thomas Smith                   6\n",
       "7     Michael Smith                   6\n",
       "8      Lisa Johnson                   5\n",
       "9      Edward Moore                   5"
      ]
     },
     "execution_count": 38,
     "metadata": {},
     "output_type": "execute_result"
    }
   ],
   "source": [
    "top_10_clients_by_orders()"
   ]
  },
  {
   "cell_type": "markdown",
   "metadata": {},
   "source": [
    "#### 11. Produto mais caro e mais barato:"
   ]
  },
  {
   "cell_type": "code",
   "execution_count": 39,
   "metadata": {},
   "outputs": [],
   "source": [
    "def most_and_least_expensive_products():\n",
    "    query = \"\"\"\n",
    "    SELECT 'Mais Caro' AS Tipo, ID_Produto, Nome, Descricao, Preco, Estoque, Categoria\n",
    "    FROM (\n",
    "        SELECT * FROM Produtos\n",
    "        ORDER BY Preco DESC\n",
    "        LIMIT 1\n",
    "    ) AS Mais_Caro\n",
    "\n",
    "    UNION ALL\n",
    "\n",
    "    SELECT 'Mais Barato' AS Tipo, ID_Produto, Nome, Descricao, Preco, Estoque, Categoria\n",
    "    FROM (\n",
    "        SELECT * FROM Produtos\n",
    "        ORDER BY Preco ASC\n",
    "        LIMIT 1\n",
    "    ) AS Mais_Barato\n",
    "    \"\"\"\n",
    "    return pd.read_sql(query, conn)"
   ]
  },
  {
   "cell_type": "code",
   "execution_count": 40,
   "metadata": {},
   "outputs": [
    {
     "name": "stderr",
     "output_type": "stream",
     "text": [
      "/var/folders/1q/xq08b0k14gvdn4l2lhcx_7wm0000gn/T/ipykernel_16435/1342617978.py:19: UserWarning: pandas only supports SQLAlchemy connectable (engine/connection) or database string URI or sqlite3 DBAPI2 connection. Other DBAPI2 objects are not tested. Please consider using SQLAlchemy.\n",
      "  return pd.read_sql(query, conn)\n"
     ]
    },
    {
     "data": {
      "text/html": [
       "<div>\n",
       "<style scoped>\n",
       "    .dataframe tbody tr th:only-of-type {\n",
       "        vertical-align: middle;\n",
       "    }\n",
       "\n",
       "    .dataframe tbody tr th {\n",
       "        vertical-align: top;\n",
       "    }\n",
       "\n",
       "    .dataframe thead th {\n",
       "        text-align: right;\n",
       "    }\n",
       "</style>\n",
       "<table border=\"1\" class=\"dataframe\">\n",
       "  <thead>\n",
       "    <tr style=\"text-align: right;\">\n",
       "      <th></th>\n",
       "      <th>tipo</th>\n",
       "      <th>id_produto</th>\n",
       "      <th>nome</th>\n",
       "      <th>descricao</th>\n",
       "      <th>preco</th>\n",
       "      <th>estoque</th>\n",
       "      <th>categoria</th>\n",
       "    </tr>\n",
       "  </thead>\n",
       "  <tbody>\n",
       "    <tr>\n",
       "      <th>0</th>\n",
       "      <td>Mais Caro</td>\n",
       "      <td>15136</td>\n",
       "      <td>those</td>\n",
       "      <td>Determine day art key ten reach question dream.</td>\n",
       "      <td>1000.00</td>\n",
       "      <td>43</td>\n",
       "      <td>Roupas</td>\n",
       "    </tr>\n",
       "    <tr>\n",
       "      <th>1</th>\n",
       "      <td>Mais Barato</td>\n",
       "      <td>4203</td>\n",
       "      <td>house</td>\n",
       "      <td>Often stuff talk Mrs ever big.</td>\n",
       "      <td>10.01</td>\n",
       "      <td>44</td>\n",
       "      <td>Alimentos</td>\n",
       "    </tr>\n",
       "  </tbody>\n",
       "</table>\n",
       "</div>"
      ],
      "text/plain": [
       "          tipo  id_produto   nome  \\\n",
       "0    Mais Caro       15136  those   \n",
       "1  Mais Barato        4203  house   \n",
       "\n",
       "                                         descricao    preco  estoque  \\\n",
       "0  Determine day art key ten reach question dream.  1000.00       43   \n",
       "1                   Often stuff talk Mrs ever big.    10.01       44   \n",
       "\n",
       "   categoria  \n",
       "0     Roupas  \n",
       "1  Alimentos  "
      ]
     },
     "execution_count": 40,
     "metadata": {},
     "output_type": "execute_result"
    }
   ],
   "source": [
    "most_and_least_expensive_products()"
   ]
  },
  {
   "cell_type": "markdown",
   "metadata": {},
   "source": [
    "#### 12. Idade média dos clientes:"
   ]
  },
  {
   "cell_type": "code",
   "execution_count": 41,
   "metadata": {},
   "outputs": [],
   "source": [
    "def average_client_age():\n",
    "    query = \"SELECT AVG(EXTRACT(YEAR FROM AGE(Data_Nascimento))) AS Idade_Media FROM Clientes\"\n",
    "    return pd.read_sql(query, conn)"
   ]
  },
  {
   "cell_type": "code",
   "execution_count": 42,
   "metadata": {},
   "outputs": [
    {
     "name": "stderr",
     "output_type": "stream",
     "text": [
      "/var/folders/1q/xq08b0k14gvdn4l2lhcx_7wm0000gn/T/ipykernel_16435/3129890776.py:3: UserWarning: pandas only supports SQLAlchemy connectable (engine/connection) or database string URI or sqlite3 DBAPI2 connection. Other DBAPI2 objects are not tested. Please consider using SQLAlchemy.\n",
      "  return pd.read_sql(query, conn)\n"
     ]
    },
    {
     "data": {
      "text/html": [
       "<div>\n",
       "<style scoped>\n",
       "    .dataframe tbody tr th:only-of-type {\n",
       "        vertical-align: middle;\n",
       "    }\n",
       "\n",
       "    .dataframe tbody tr th {\n",
       "        vertical-align: top;\n",
       "    }\n",
       "\n",
       "    .dataframe thead th {\n",
       "        text-align: right;\n",
       "    }\n",
       "</style>\n",
       "<table border=\"1\" class=\"dataframe\">\n",
       "  <thead>\n",
       "    <tr style=\"text-align: right;\">\n",
       "      <th></th>\n",
       "      <th>idade_media</th>\n",
       "    </tr>\n",
       "  </thead>\n",
       "  <tbody>\n",
       "    <tr>\n",
       "      <th>0</th>\n",
       "      <td>57.76275</td>\n",
       "    </tr>\n",
       "  </tbody>\n",
       "</table>\n",
       "</div>"
      ],
      "text/plain": [
       "   idade_media\n",
       "0     57.76275"
      ]
     },
     "execution_count": 42,
     "metadata": {},
     "output_type": "execute_result"
    }
   ],
   "source": [
    "average_client_age()"
   ]
  },
  {
   "cell_type": "markdown",
   "metadata": {},
   "source": [
    "#### 13. Clientes que possuem o mesmo sobrenome:"
   ]
  },
  {
   "cell_type": "code",
   "execution_count": 43,
   "metadata": {},
   "outputs": [],
   "source": [
    "def clients_with_same_last_name():\n",
    "    query = \"\"\"\n",
    "    SELECT Nome, COUNT(*) AS Quantidade\n",
    "    FROM Clientes\n",
    "    GROUP BY Nome\n",
    "    HAVING COUNT(*) > 1\n",
    "    \"\"\"\n",
    "    return pd.read_sql(query, conn)"
   ]
  },
  {
   "cell_type": "code",
   "execution_count": 45,
   "metadata": {},
   "outputs": [
    {
     "name": "stderr",
     "output_type": "stream",
     "text": [
      "/var/folders/1q/xq08b0k14gvdn4l2lhcx_7wm0000gn/T/ipykernel_16435/1891913882.py:8: UserWarning: pandas only supports SQLAlchemy connectable (engine/connection) or database string URI or sqlite3 DBAPI2 connection. Other DBAPI2 objects are not tested. Please consider using SQLAlchemy.\n",
      "  return pd.read_sql(query, conn)\n"
     ]
    },
    {
     "data": {
      "text/html": [
       "<div>\n",
       "<style scoped>\n",
       "    .dataframe tbody tr th:only-of-type {\n",
       "        vertical-align: middle;\n",
       "    }\n",
       "\n",
       "    .dataframe tbody tr th {\n",
       "        vertical-align: top;\n",
       "    }\n",
       "\n",
       "    .dataframe thead th {\n",
       "        text-align: right;\n",
       "    }\n",
       "</style>\n",
       "<table border=\"1\" class=\"dataframe\">\n",
       "  <thead>\n",
       "    <tr style=\"text-align: right;\">\n",
       "      <th></th>\n",
       "      <th>nome</th>\n",
       "      <th>quantidade</th>\n",
       "    </tr>\n",
       "  </thead>\n",
       "  <tbody>\n",
       "    <tr>\n",
       "      <th>0</th>\n",
       "      <td>James Hall</td>\n",
       "      <td>3</td>\n",
       "    </tr>\n",
       "    <tr>\n",
       "      <th>1</th>\n",
       "      <td>John Vasquez</td>\n",
       "      <td>2</td>\n",
       "    </tr>\n",
       "    <tr>\n",
       "      <th>2</th>\n",
       "      <td>Logan Lopez</td>\n",
       "      <td>2</td>\n",
       "    </tr>\n",
       "    <tr>\n",
       "      <th>3</th>\n",
       "      <td>Wendy Hill</td>\n",
       "      <td>2</td>\n",
       "    </tr>\n",
       "    <tr>\n",
       "      <th>4</th>\n",
       "      <td>Richard Phillips</td>\n",
       "      <td>2</td>\n",
       "    </tr>\n",
       "  </tbody>\n",
       "</table>\n",
       "</div>"
      ],
      "text/plain": [
       "               nome  quantidade\n",
       "0        James Hall           3\n",
       "1      John Vasquez           2\n",
       "2       Logan Lopez           2\n",
       "3        Wendy Hill           2\n",
       "4  Richard Phillips           2"
      ]
     },
     "execution_count": 45,
     "metadata": {},
     "output_type": "execute_result"
    }
   ],
   "source": [
    "clients_with_same_last_name().head()"
   ]
  },
  {
   "cell_type": "markdown",
   "metadata": {},
   "source": [
    "#### 14. Pedidos feitos por clientes cujo nome começa com 'A':"
   ]
  },
  {
   "cell_type": "code",
   "execution_count": 46,
   "metadata": {},
   "outputs": [],
   "source": [
    "def orders_by_clients_name_starts_with_A():\n",
    "    query = \"\"\"\n",
    "    SELECT p.*\n",
    "    FROM Pedidos p\n",
    "    JOIN Clientes c ON p.ID_Cliente = c.ID_Cliente\n",
    "    WHERE c.Nome LIKE 'A%'\n",
    "    \"\"\"\n",
    "    return pd.read_sql(query, conn)"
   ]
  },
  {
   "cell_type": "code",
   "execution_count": 48,
   "metadata": {},
   "outputs": [
    {
     "name": "stderr",
     "output_type": "stream",
     "text": [
      "/var/folders/1q/xq08b0k14gvdn4l2lhcx_7wm0000gn/T/ipykernel_16435/2510893945.py:8: UserWarning: pandas only supports SQLAlchemy connectable (engine/connection) or database string URI or sqlite3 DBAPI2 connection. Other DBAPI2 objects are not tested. Please consider using SQLAlchemy.\n",
      "  return pd.read_sql(query, conn)\n"
     ]
    },
    {
     "data": {
      "text/html": [
       "<div>\n",
       "<style scoped>\n",
       "    .dataframe tbody tr th:only-of-type {\n",
       "        vertical-align: middle;\n",
       "    }\n",
       "\n",
       "    .dataframe tbody tr th {\n",
       "        vertical-align: top;\n",
       "    }\n",
       "\n",
       "    .dataframe thead th {\n",
       "        text-align: right;\n",
       "    }\n",
       "</style>\n",
       "<table border=\"1\" class=\"dataframe\">\n",
       "  <thead>\n",
       "    <tr style=\"text-align: right;\">\n",
       "      <th></th>\n",
       "      <th>id_pedido</th>\n",
       "      <th>data_pedido</th>\n",
       "      <th>status</th>\n",
       "      <th>valor_total</th>\n",
       "      <th>id_cliente</th>\n",
       "    </tr>\n",
       "  </thead>\n",
       "  <tbody>\n",
       "    <tr>\n",
       "      <th>0</th>\n",
       "      <td>647</td>\n",
       "      <td>2024-07-09</td>\n",
       "      <td>Concluído</td>\n",
       "      <td>4740.26</td>\n",
       "      <td>10730</td>\n",
       "    </tr>\n",
       "    <tr>\n",
       "      <th>1</th>\n",
       "      <td>650</td>\n",
       "      <td>2024-01-23</td>\n",
       "      <td>Concluído</td>\n",
       "      <td>1051.60</td>\n",
       "      <td>15886</td>\n",
       "    </tr>\n",
       "    <tr>\n",
       "      <th>2</th>\n",
       "      <td>657</td>\n",
       "      <td>2024-07-14</td>\n",
       "      <td>Pendente</td>\n",
       "      <td>1638.95</td>\n",
       "      <td>534</td>\n",
       "    </tr>\n",
       "    <tr>\n",
       "      <th>3</th>\n",
       "      <td>660</td>\n",
       "      <td>2024-04-23</td>\n",
       "      <td>Pendente</td>\n",
       "      <td>3250.24</td>\n",
       "      <td>914</td>\n",
       "    </tr>\n",
       "    <tr>\n",
       "      <th>4</th>\n",
       "      <td>672</td>\n",
       "      <td>2024-07-14</td>\n",
       "      <td>Concluído</td>\n",
       "      <td>4989.39</td>\n",
       "      <td>19934</td>\n",
       "    </tr>\n",
       "  </tbody>\n",
       "</table>\n",
       "</div>"
      ],
      "text/plain": [
       "   id_pedido data_pedido     status  valor_total  id_cliente\n",
       "0        647  2024-07-09  Concluído      4740.26       10730\n",
       "1        650  2024-01-23  Concluído      1051.60       15886\n",
       "2        657  2024-07-14   Pendente      1638.95         534\n",
       "3        660  2024-04-23   Pendente      3250.24         914\n",
       "4        672  2024-07-14  Concluído      4989.39       19934"
      ]
     },
     "execution_count": 48,
     "metadata": {},
     "output_type": "execute_result"
    }
   ],
   "source": [
    "orders_by_clients_name_starts_with_A().head()"
   ]
  },
  {
   "cell_type": "markdown",
   "metadata": {},
   "source": [
    "#### 15. Produtos, sua categoria e indicação de estoque:"
   ]
  },
  {
   "cell_type": "code",
   "execution_count": 49,
   "metadata": {},
   "outputs": [],
   "source": [
    "def products_with_stock_status():\n",
    "    query = \"\"\"\n",
    "    SELECT Nome, Categoria,\n",
    "           CASE \n",
    "               WHEN Estoque > 0 THEN 'Em Estoque'\n",
    "               ELSE 'Esgotado'\n",
    "           END AS Status_Estoque\n",
    "    FROM Produtos\n",
    "    \"\"\"\n",
    "    return pd.read_sql(query, conn)"
   ]
  },
  {
   "cell_type": "code",
   "execution_count": 51,
   "metadata": {},
   "outputs": [
    {
     "name": "stderr",
     "output_type": "stream",
     "text": [
      "/var/folders/1q/xq08b0k14gvdn4l2lhcx_7wm0000gn/T/ipykernel_16435/2325366981.py:10: UserWarning: pandas only supports SQLAlchemy connectable (engine/connection) or database string URI or sqlite3 DBAPI2 connection. Other DBAPI2 objects are not tested. Please consider using SQLAlchemy.\n",
      "  return pd.read_sql(query, conn)\n"
     ]
    },
    {
     "data": {
      "text/html": [
       "<div>\n",
       "<style scoped>\n",
       "    .dataframe tbody tr th:only-of-type {\n",
       "        vertical-align: middle;\n",
       "    }\n",
       "\n",
       "    .dataframe tbody tr th {\n",
       "        vertical-align: top;\n",
       "    }\n",
       "\n",
       "    .dataframe thead th {\n",
       "        text-align: right;\n",
       "    }\n",
       "</style>\n",
       "<table border=\"1\" class=\"dataframe\">\n",
       "  <thead>\n",
       "    <tr style=\"text-align: right;\">\n",
       "      <th></th>\n",
       "      <th>nome</th>\n",
       "      <th>categoria</th>\n",
       "      <th>status_estoque</th>\n",
       "    </tr>\n",
       "  </thead>\n",
       "  <tbody>\n",
       "    <tr>\n",
       "      <th>0</th>\n",
       "      <td>another</td>\n",
       "      <td>Roupas</td>\n",
       "      <td>Em Estoque</td>\n",
       "    </tr>\n",
       "    <tr>\n",
       "      <th>1</th>\n",
       "      <td>key</td>\n",
       "      <td>Eletrônicos</td>\n",
       "      <td>Em Estoque</td>\n",
       "    </tr>\n",
       "    <tr>\n",
       "      <th>2</th>\n",
       "      <td>kind</td>\n",
       "      <td>Livros</td>\n",
       "      <td>Em Estoque</td>\n",
       "    </tr>\n",
       "    <tr>\n",
       "      <th>3</th>\n",
       "      <td>data</td>\n",
       "      <td>Roupas</td>\n",
       "      <td>Em Estoque</td>\n",
       "    </tr>\n",
       "    <tr>\n",
       "      <th>4</th>\n",
       "      <td>institution</td>\n",
       "      <td>Eletrônicos</td>\n",
       "      <td>Em Estoque</td>\n",
       "    </tr>\n",
       "  </tbody>\n",
       "</table>\n",
       "</div>"
      ],
      "text/plain": [
       "          nome    categoria status_estoque\n",
       "0      another       Roupas     Em Estoque\n",
       "1          key  Eletrônicos     Em Estoque\n",
       "2         kind       Livros     Em Estoque\n",
       "3         data       Roupas     Em Estoque\n",
       "4  institution  Eletrônicos     Em Estoque"
      ]
     },
     "execution_count": 51,
     "metadata": {},
     "output_type": "execute_result"
    }
   ],
   "source": [
    "products_with_stock_status().head()"
   ]
  },
  {
   "cell_type": "markdown",
   "metadata": {},
   "source": [
    "#### Fechar a conexão:"
   ]
  },
  {
   "cell_type": "code",
   "execution_count": 52,
   "metadata": {},
   "outputs": [],
   "source": [
    "cursor.close()\n",
    "conn.close()"
   ]
  }
 ],
 "metadata": {
  "kernelspec": {
   "display_name": "Python 3",
   "language": "python",
   "name": "python3"
  },
  "language_info": {
   "codemirror_mode": {
    "name": "ipython",
    "version": 3
   },
   "file_extension": ".py",
   "mimetype": "text/x-python",
   "name": "python",
   "nbconvert_exporter": "python",
   "pygments_lexer": "ipython3",
   "version": "3.12.4"
  }
 },
 "nbformat": 4,
 "nbformat_minor": 2
}
