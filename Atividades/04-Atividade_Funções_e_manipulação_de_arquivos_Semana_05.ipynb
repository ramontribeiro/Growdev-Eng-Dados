{
  "cells": [
    {
      "cell_type": "markdown",
      "metadata": {
        "id": "v8pFWwviib2C"
      },
      "source": [
        "![Growdev](https://www.growdev.com.br/assets/images/logo_growdev.png)"
      ]
    },
    {
      "cell_type": "markdown",
      "metadata": {
        "id": "6Tkl4_HxifXZ"
      },
      "source": [
        "![Formação Engenharia de Dados](https://d335luupugsy2.cloudfront.net/cms/files/524558/1707226566/$occu5m8t1op)"
      ]
    },
    {
      "cell_type": "markdown",
      "metadata": {
        "id": "ty7Bzyl1i9bN"
      },
      "source": [
        "Este material tem como objetivo incentivar a prática dos conteúdos estudados até o momento, e a pesquisa. Tenha em consideração que o exercício foi pensado para incentivar a prática dos conteúdos estudados até então, porém aprender a pesquisar faz parte do processo de aprendizagem.\n",
        "\n",
        "Fique tranquilo, faça os exercícios com calma, e boa prática!\n"
      ]
    },
    {
      "cell_type": "markdown",
      "metadata": {
        "id": "DU5-yCQwjx3V"
      },
      "source": [
        "#Orientações:\n",
        "\n",
        " - Faça uma copia deste arquivo\n",
        " - Após concluir os exercicios, suba seu exercicio para o GitHub e compartilhe o link no **google** Classroom\n"
      ]
    },
    {
      "cell_type": "markdown",
      "metadata": {
        "id": "EzT810tnlmfE"
      },
      "source": [
        "#Exercícios"
      ]
    },
    {
      "cell_type": "markdown",
      "metadata": {
        "id": "rDqBAimhSq_C"
      },
      "source": [
        "#Funções"
      ]
    },
    {
      "cell_type": "markdown",
      "metadata": {
        "id": "AkBqdNST8bCY"
      },
      "source": [
        "Escreva uma função chamada soma que recebe dois números como parâmetros e retorna a soma deles"
      ]
    },
    {
      "cell_type": "code",
      "execution_count": 1,
      "metadata": {
        "id": "J427Pi2p8THC"
      },
      "outputs": [],
      "source": [
        "def soma(n1, n2):\n",
        "    return n1+n2"
      ]
    },
    {
      "cell_type": "code",
      "execution_count": 2,
      "metadata": {},
      "outputs": [
        {
          "name": "stdout",
          "output_type": "stream",
          "text": [
            "5\n"
          ]
        }
      ],
      "source": [
        "print(soma(2,3))"
      ]
    },
    {
      "cell_type": "markdown",
      "metadata": {
        "id": "NAa3MBAM830W"
      },
      "source": [
        "Escreva uma função chamada verificar_paridade que recebe um número como parâmetro e retorna True se for par e False se for ímpar."
      ]
    },
    {
      "cell_type": "code",
      "execution_count": 3,
      "metadata": {
        "id": "CRlV5NE82kpE"
      },
      "outputs": [],
      "source": [
        "def verificar_paridade(n):\n",
        "    return n % 2 == 0"
      ]
    },
    {
      "cell_type": "code",
      "execution_count": 4,
      "metadata": {},
      "outputs": [
        {
          "name": "stdout",
          "output_type": "stream",
          "text": [
            "True\n"
          ]
        }
      ],
      "source": [
        "print(verificar_paridade(2))"
      ]
    },
    {
      "cell_type": "code",
      "execution_count": 5,
      "metadata": {},
      "outputs": [
        {
          "name": "stdout",
          "output_type": "stream",
          "text": [
            "False\n"
          ]
        }
      ],
      "source": [
        "print(verificar_paridade(3))"
      ]
    },
    {
      "cell_type": "markdown",
      "metadata": {
        "id": "S7Rh1p4N8_dp"
      },
      "source": [
        "Escreva uma função chamada verificar_palindromo que recebe uma string como parâmetro e retorna True se for um palíndromo (uma palavra que é igual se lida da esquerda para a direita e vice-versa) e False caso contrário."
      ]
    },
    {
      "cell_type": "code",
      "execution_count": 6,
      "metadata": {
        "id": "jY3rGEWc9Gb5"
      },
      "outputs": [],
      "source": [
        "def verificar_palindromo(string):\n",
        "    size = len(string)\n",
        "    if size == 0:\n",
        "        # Se a string é vazia, ela é ou não é palíndromo? Estou considerando que não\n",
        "        return False\n",
        "    for i in range(0, size // 2):\n",
        "        if string[i] != string[size - i - 1]: # encontrei diferença, nem precisa continuar\n",
        "            return False\n",
        "    return True"
      ]
    },
    {
      "cell_type": "code",
      "execution_count": 12,
      "metadata": {},
      "outputs": [
        {
          "name": "stdout",
          "output_type": "stream",
          "text": [
            "True\n",
            "False\n"
          ]
        }
      ],
      "source": [
        "print(verificar_palindromo('renner'))\n",
        "print(verificar_palindromo('teste'))"
      ]
    },
    {
      "cell_type": "markdown",
      "metadata": {
        "id": "suLU217H9G51"
      },
      "source": [
        "##Desafio listas e funções:"
      ]
    },
    {
      "cell_type": "markdown",
      "metadata": {
        "id": "zv3Edx_T-TF5"
      },
      "source": [
        "Crie uma função que representa o jogo batalha naval.\n",
        "\n",
        "Dentro da função crie uma estrutura bidimensional utilizando listas com sublistas para representar um tabuleiro (1 lista com 20 elementos e cada elemento é uma lista de 20 elementos, tabuleiro 20x20). Cada posição irá armazenar 1 valor numérico que significa:\n",
        "- 0 - Água\n",
        "- 1 - Navio\n",
        "\n",
        "Para cada posição escolha esses valores aleatoriamente, respeitando a regra de que não podem existir mais de 20 navios no tabuleiro.\n",
        "\n",
        "Após os valores serem distribuídos, o programa deve pedir ao usuário uma posição do tabuleiro e informar se ele acertou um navio ou água e repetir o procedimento até que o usuário derrote todos os navios ou chegue ao limite de 35 tentativas.\n",
        "\n"
      ]
    },
    {
      "cell_type": "code",
      "execution_count": null,
      "metadata": {
        "id": "BhHWwg54-H1j"
      },
      "outputs": [],
      "source": [
        "\n",
        "import random\n",
        "# Função para criar e preencher o tabuleiro\n",
        "def criar_tabuleiro():\n",
        "    tabuleiro = []\n",
        "    for i in range(20):\n",
        "        linha = [0] * 20\n",
        "        tabuleiro.append(linha)\n",
        "\n",
        "    navios_colocados = 0\n",
        "    while navios_colocados < 50:\n",
        "        x = random.randint(0, 19)\n",
        "        y = random.randint(0, 19)\n",
        "        if tabuleiro[x][y] == 0:\n",
        "            tabuleiro[x][y] = 1\n",
        "            navios_colocados += 1\n",
        "\n",
        "    return tabuleiro\n",
        "\n",
        "# Função principal do jogo\n",
        "def jogo_batalha():\n",
        "    tabuleiro = criar_tabuleiro()\n",
        "    tentativas = 0\n",
        "    navios_derrotados = 0\n",
        "\n",
        "    print(tabuleiro)\n",
        "\n",
        "    while tentativas < 5 and navios_derrotados < 50:\n",
        "        print(f\"Tentativa {tentativas + 1} de 35\")\n",
        "        x = int(input(\"Informe a linha (0-19): \"))\n",
        "        y = int(input(\"Informe a coluna (0-19): \"))\n",
        "\n",
        "        if x < 0 or x > 19 or y < 0 or y > 19:\n",
        "            print(\"Posição inválida! Tente novamente.\")\n",
        "            continue\n",
        "\n",
        "        if tabuleiro[x][y] == 1:\n",
        "            print(\"Você acertou um navio!\")\n",
        "            navios_derrotados += 1\n",
        "            tabuleiro[x][y] = -1  # Marca navio destruído\n",
        "        elif tabuleiro[x][y] == 0:\n",
        "            print(\"Você acertou a água.\")\n",
        "            tabuleiro[x][y] = -1  # Marca posição já tentada\n",
        "        elif tabuleiro[x][y] == -1:\n",
        "            print(\"Você já tentou esta posição antes! Tente outra.\")\n",
        "            continue\n",
        "\n",
        "        tentativas += 1\n",
        "        print(f\"Navios derrotados: {navios_derrotados}/20\\n\")\n",
        "\n",
        "    if navios_derrotados == 20:\n",
        "        print(\"Parabéns! Você derrotou todos os navios.\")\n",
        "    else:\n",
        "        print(\"Fim de jogo! Você atingiu o limite de tentativas.\")\n",
        "\n",
        "# Executar o jogo\n",
        "jogo_batalha()"
      ]
    },
    {
      "cell_type": "markdown",
      "metadata": {
        "id": "WUXJN6Dg_GET"
      },
      "source": [
        "Modifique o programa anterior para exibir as seguintes estatísticas.\n",
        "- Acertos em água\n",
        "- Acertos em Navios\n",
        "- Porcentagem de acertos em água\n",
        "- Porcentagem de acertos em Navios\n",
        "- Acertos ininterruptos (maior quantidade de acertos em sequência)"
      ]
    },
    {
      "cell_type": "code",
      "execution_count": null,
      "metadata": {
        "id": "N5itlDvd_Hbi"
      },
      "outputs": [],
      "source": [
        "\n",
        "import random\n",
        "# Função para criar e preencher o tabuleiro\n",
        "def criar_tabuleiro():\n",
        "    tabuleiro = []\n",
        "    for i in range(20):\n",
        "        linha = [0] * 20\n",
        "        tabuleiro.append(linha)\n",
        "\n",
        "    navios_colocados = 0\n",
        "    while navios_colocados < 50:\n",
        "        x = random.randint(0, 19)\n",
        "        y = random.randint(0, 19)\n",
        "        if tabuleiro[x][y] == 0:\n",
        "            tabuleiro[x][y] = 1\n",
        "            navios_colocados += 1\n",
        "\n",
        "    return tabuleiro\n",
        "\n",
        "# Função principal do jogo\n",
        "def jogo_batalha():\n",
        "    tabuleiro = criar_tabuleiro()\n",
        "    tentativas = 0\n",
        "    navios_derrotados = 0\n",
        "\n",
        "    print(tabuleiro)\n",
        "\n",
        "    acerto_agua = 0\n",
        "    acerto_navio = 0\n",
        "\n",
        "    acertos_ininterruptos = 0\n",
        "    lista_acertos = []\n",
        "\n",
        "    while tentativas < 5 and navios_derrotados < 50:\n",
        "        print(f\"Tentativa {tentativas + 1} de 35\")\n",
        "        x = int(input(\"Informe a linha (0-19): \"))\n",
        "        y = int(input(\"Informe a coluna (0-19): \"))\n",
        "\n",
        "        if x < 0 or x > 19 or y < 0 or y > 19:\n",
        "            print(\"Posição inválida! Tente novamente.\")\n",
        "            continue\n",
        "\n",
        "        if tabuleiro[x][y] == 1:\n",
        "            print(\"Você acertou um navio!\")\n",
        "            navios_derrotados += 1\n",
        "            acerto_navio += 1\n",
        "            acertos_ininterruptos += 1\n",
        "            lista_acertos.append(acertos_ininterruptos)\n",
        "            tabuleiro[x][y] = -1  # Marca navio destruído\n",
        "        elif tabuleiro[x][y] == 0:\n",
        "            print(\"Você acertou a água.\")\n",
        "            acerto_agua += 1\n",
        "            acertos_ininterruptos = 0\n",
        "            tabuleiro[x][y] = -1  # Marca posição já tentada\n",
        "        elif tabuleiro[x][y] == -1:\n",
        "            acertos_ininterruptos = 0\n",
        "            print(\"Você já tentou esta posição antes! Tente outra.\")\n",
        "            continue\n",
        "\n",
        "        tentativas += 1\n",
        "        print(f\"Navios derrotados: {navios_derrotados}/20\\n\")\n",
        "\n",
        "    if navios_derrotados == 20:\n",
        "        print(\"Parabéns! Você derrotou todos os navios.\")\n",
        "        print(f'Acertos em Água {acerto_agua}')\n",
        "        print(f'Porcentagem de acertos em água {(acerto_agua/tentativas)*100}%')\n",
        "        print(f'Acertos em Navio {acerto_navio}')\n",
        "        print(f'Porcentagem de acertos em Navios {(acerto_navio/tentativas)*100}%')\n",
        "        print(f'Acertos em Sequência {max(lista_acertos)}')\n",
        "    else:\n",
        "        print(\"Fim de jogo! Você atingiu o limite de tentativas.\")\n",
        "        print(f'Acertos em Água {acerto_agua}')\n",
        "        print(f'Porcentagem de acertos em água {(acerto_agua/tentativas)*100}%')\n",
        "        print(f'Acertos em Navio {acerto_navio}')\n",
        "        print(f'Porcentagem de acertos em Navios {(acerto_navio/tentativas)*100}%')\n",
        "        print(f'Acertos em Sequência {max(lista_acertos)}')\n",
        "\n",
        "# Executar o jogo\n",
        "jogo_batalha()"
      ]
    },
    {
      "cell_type": "markdown",
      "metadata": {
        "id": "ffEKF4Kx5eQu"
      },
      "source": [
        "#Manipulação de arquivos: Conteudo será trabalhado na aula do dia 08/05"
      ]
    },
    {
      "cell_type": "markdown",
      "metadata": {
        "id": "IrQvRhQM5oj6"
      },
      "source": [
        "UUtilize o arquivo ‘compras.csv’ como base para resolver os seguintes exercícios.  disponivel em: https://drive.google.com/file/d/1cqqr7kWuBYYJxJ8W_-KHmcZHs6sfV_is/view"
      ]
    },
    {
      "cell_type": "markdown",
      "metadata": {
        "id": "J8g6sYrl3Xjg"
      },
      "source": [
        "Utilize as seguintes faixas etárias nos exercícios em que for necessário.\n",
        "- Jovens, 18 a 25 anos\n",
        "- Adultos, 26 a 59 anos\n",
        "- Idosos, igual ou maior que 60 anos\n"
      ]
    },
    {
      "cell_type": "markdown",
      "metadata": {
        "id": "apGpARF-3nW9"
      },
      "source": [
        "Procure quem foi a pessoa que mais gastou?"
      ]
    },
    {
      "cell_type": "code",
      "execution_count": null,
      "metadata": {
        "id": "EPX_3cU33XOh"
      },
      "outputs": [],
      "source": []
    },
    {
      "cell_type": "markdown",
      "metadata": {
        "id": "3PBqAffp3o9I"
      },
      "source": [
        "Busque quais são os anos da base de dados?"
      ]
    },
    {
      "cell_type": "code",
      "execution_count": null,
      "metadata": {
        "id": "lqgX2B6x5fLc"
      },
      "outputs": [],
      "source": []
    },
    {
      "cell_type": "markdown",
      "metadata": {
        "id": "R2DKj08Z5tqJ"
      },
      "source": [
        "Qual a porcentagem de homens e mulheres na base de dados?"
      ]
    },
    {
      "cell_type": "code",
      "execution_count": null,
      "metadata": {
        "id": "3wZDjRn03xB0"
      },
      "outputs": [],
      "source": []
    },
    {
      "cell_type": "markdown",
      "metadata": {
        "id": "Nou_jojr3ztM"
      },
      "source": [
        "Qual foi o gasto por ano?"
      ]
    },
    {
      "cell_type": "code",
      "execution_count": null,
      "metadata": {
        "id": "hjBuBCDb30YI"
      },
      "outputs": [],
      "source": []
    },
    {
      "cell_type": "markdown",
      "metadata": {
        "id": "vgN3teMQ32pg"
      },
      "source": [
        "Qual foi o ano com maior gasto?"
      ]
    },
    {
      "cell_type": "code",
      "execution_count": null,
      "metadata": {
        "id": "JmN_ZHBV35ss"
      },
      "outputs": [],
      "source": []
    },
    {
      "cell_type": "markdown",
      "metadata": {
        "id": "V_y9EX0p34-E"
      },
      "source": [
        "Utilizando as faixas etárias, diga quantas pessoas há em cada faixa?"
      ]
    },
    {
      "cell_type": "code",
      "execution_count": null,
      "metadata": {
        "id": "ukkjPSE738r8"
      },
      "outputs": [],
      "source": []
    },
    {
      "cell_type": "markdown",
      "metadata": {
        "id": "_7qmp-1y36Ac"
      },
      "source": [
        "Qual é a faixa etária que mais gasta?"
      ]
    },
    {
      "cell_type": "code",
      "execution_count": null,
      "metadata": {
        "id": "O0_Wt4I838V0"
      },
      "outputs": [],
      "source": []
    },
    {
      "cell_type": "markdown",
      "metadata": {
        "id": "L_EUiizw3-jM"
      },
      "source": [
        "A opção de débito é mais utilizada entre homens ou mulheres?"
      ]
    },
    {
      "cell_type": "code",
      "execution_count": null,
      "metadata": {
        "id": "dIKB7PXj3_DE"
      },
      "outputs": [],
      "source": []
    },
    {
      "cell_type": "markdown",
      "metadata": {
        "id": "jOMpl3Th4Bkm"
      },
      "source": [
        "Qual o sobrenome que mais aparece na base de dados?"
      ]
    },
    {
      "cell_type": "code",
      "execution_count": null,
      "metadata": {
        "id": "LDFe_62s4B_Q"
      },
      "outputs": [],
      "source": []
    },
    {
      "cell_type": "markdown",
      "metadata": {
        "id": "Q7VS9K_Q4ECM"
      },
      "source": [
        "Qual foi o ano em que os homens mais usaram o crédito?"
      ]
    },
    {
      "cell_type": "code",
      "execution_count": null,
      "metadata": {
        "id": "5H60b3n64Ee0"
      },
      "outputs": [],
      "source": []
    },
    {
      "cell_type": "markdown",
      "metadata": {
        "id": "ebnmp5KD4GPw"
      },
      "source": [
        "Qual opção de pagamento é mais utilizada em cada faixa etária?"
      ]
    },
    {
      "cell_type": "code",
      "execution_count": null,
      "metadata": {
        "id": "NumXkC5p4H7s"
      },
      "outputs": [],
      "source": []
    },
    {
      "cell_type": "markdown",
      "metadata": {
        "id": "jRKhI6Dv4IQJ"
      },
      "source": [
        "Qual o valor gasto em compras por jovens do ano de 2010 até 2015?"
      ]
    },
    {
      "cell_type": "code",
      "execution_count": null,
      "metadata": {
        "id": "6SXstcF54Itk"
      },
      "outputs": [],
      "source": []
    }
  ],
  "metadata": {
    "colab": {
      "provenance": []
    },
    "kernelspec": {
      "display_name": "Python 3",
      "name": "python3"
    },
    "language_info": {
      "codemirror_mode": {
        "name": "ipython",
        "version": 3
      },
      "file_extension": ".py",
      "mimetype": "text/x-python",
      "name": "python",
      "nbconvert_exporter": "python",
      "pygments_lexer": "ipython3",
      "version": "3.11.7"
    }
  },
  "nbformat": 4,
  "nbformat_minor": 0
}
