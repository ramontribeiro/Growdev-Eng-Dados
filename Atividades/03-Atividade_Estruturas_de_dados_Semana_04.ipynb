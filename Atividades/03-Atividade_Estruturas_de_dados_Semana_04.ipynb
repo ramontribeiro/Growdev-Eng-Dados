{
  "cells": [
    {
      "cell_type": "markdown",
      "metadata": {
        "id": "v8pFWwviib2C"
      },
      "source": [
        "![Growdev](https://www.growdev.com.br/assets/images/logo_growdev.png)"
      ]
    },
    {
      "cell_type": "markdown",
      "metadata": {
        "id": "6Tkl4_HxifXZ"
      },
      "source": [
        "![Formação Engenharia de Dados](https://d335luupugsy2.cloudfront.net/cms/files/524558/1707226566/$occu5m8t1op)"
      ]
    },
    {
      "cell_type": "markdown",
      "metadata": {
        "id": "ty7Bzyl1i9bN"
      },
      "source": [
        "Este material tem como objetivo incentivar a prática dos conteúdos estudados até o momento, e a pesquisa. Tenha em consideração que o exercício foi pensado para incentivar a prática dos conteúdos estudados até então, porém aprender a pesquisar faz parte do processo de aprendizagem.\n",
        "\n",
        "Fique tranquilo, faça os exercícios com calma, e boa prática!\n"
      ]
    },
    {
      "cell_type": "markdown",
      "metadata": {
        "id": "DU5-yCQwjx3V"
      },
      "source": [
        "#Orientações:\n",
        "\n",
        " - Faça uma copia deste arquivo\n",
        " - Após concluir os exercicios, suba seu exercicio para o GitHub e compartilhe o link no **google** Classroom\n"
      ]
    },
    {
      "cell_type": "markdown",
      "metadata": {
        "id": "EzT810tnlmfE"
      },
      "source": [
        "#Exercícios"
      ]
    },
    {
      "cell_type": "markdown",
      "metadata": {
        "id": "rDqBAimhSq_C"
      },
      "source": [
        "#Listas"
      ]
    },
    {
      "cell_type": "markdown",
      "metadata": {
        "id": "GoGkz2n-SudC"
      },
      "source": [
        "Para esse exercicio você tera alguns desafios, separei eles em partes, vamos lá?\n",
        "\n",
        "1 - Crie uma lista com 100 números inteiros.\n",
        "- Pode ser uma sequência, ou caso queira se desafiar faça de números aleatorios.\n",
        "- Os dados não devem ser inseridos manualmente, utilize de um laço de repetição para adicionar os elementos a Lista.\n"
      ]
    },
    {
      "cell_type": "code",
      "execution_count": 2,
      "metadata": {
        "id": "lLYBJr0KSuJW"
      },
      "outputs": [
        {
          "name": "stdout",
          "output_type": "stream",
          "text": [
            "[7, 23, 61, 37, 90, 63, 88, 21, 42, 74, 11, 43, 72, 73, 95, 28, 8, 93, 48, 14, 53, 5, 48, 52, 77, 50, 25, 37, 13, 96, 58, 67, 48, 9, 41, 82, 56, 17, 69, 86, 17, 44, 49, 84, 95, 96, 91, 11, 29, 66, 80, 95, 89, 8, 1, 28, 87, 91, 21, 70, 71, 77, 4, 86, 74, 84, 11, 83, 32, 99, 84, 5, 100, 86, 52, 68, 34, 1, 5, 12, 38, 78, 10, 95, 79, 94, 89, 46, 50, 33, 24, 45, 37, 33, 77, 74, 77, 34, 2, 52]\n"
          ]
        }
      ],
      "source": [
        "import random\n",
        "\n",
        "lista_numeros = []\n",
        "for i in range(100):\n",
        "    x = random.randint(1,100)\n",
        "    lista_numeros.append(x)\n",
        "\n",
        "print(lista_numeros)"
      ]
    },
    {
      "cell_type": "markdown",
      "metadata": {
        "id": "LQ0SVqxyVTD5"
      },
      "source": [
        "2 - Calcule e exiba a soma de todos os números da lista."
      ]
    },
    {
      "cell_type": "code",
      "execution_count": 3,
      "metadata": {
        "id": "6HP8yU1bVS0F"
      },
      "outputs": [
        {
          "name": "stdout",
          "output_type": "stream",
          "text": [
            "5267\n"
          ]
        }
      ],
      "source": [
        "soma_numeros = 0\n",
        "\n",
        "for numero in lista_numeros:\n",
        "    soma_numeros += numero\n",
        "\n",
        "print(soma_numeros)"
      ]
    },
    {
      "cell_type": "markdown",
      "metadata": {
        "id": "HYQGLklTTPMx"
      },
      "source": [
        "3 - Exiba o maior e o menor número da lista."
      ]
    },
    {
      "cell_type": "code",
      "execution_count": 5,
      "metadata": {
        "id": "q_UZx7EETT6S"
      },
      "outputs": [
        {
          "data": {
            "text/plain": [
              "100"
            ]
          },
          "execution_count": 5,
          "metadata": {},
          "output_type": "execute_result"
        }
      ],
      "source": [
        "max(lista_numeros)\n"
      ]
    },
    {
      "cell_type": "code",
      "execution_count": 6,
      "metadata": {},
      "outputs": [
        {
          "data": {
            "text/plain": [
              "1"
            ]
          },
          "execution_count": 6,
          "metadata": {},
          "output_type": "execute_result"
        }
      ],
      "source": [
        "min(lista_numeros)"
      ]
    },
    {
      "cell_type": "markdown",
      "metadata": {
        "id": "1iU6ZtRhVN9i"
      },
      "source": [
        "4 - Pesquise se o número 77 esta presente na lista e exiba:\n",
        "- Quantas vezes esse número aparece na lista\n",
        "- Se aparece em qual ou quais posições(Indice)."
      ]
    },
    {
      "cell_type": "code",
      "execution_count": 7,
      "metadata": {
        "id": "OGVH4AoGWU2R"
      },
      "outputs": [
        {
          "name": "stdout",
          "output_type": "stream",
          "text": [
            "4\n"
          ]
        }
      ],
      "source": [
        "ocorrencia = lista_numeros.count(77)\n",
        "print(ocorrencia)"
      ]
    },
    {
      "cell_type": "code",
      "execution_count": 8,
      "metadata": {},
      "outputs": [
        {
          "name": "stdout",
          "output_type": "stream",
          "text": [
            "[24, 61, 94, 96]\n"
          ]
        }
      ],
      "source": [
        "lista_ocorrencias = []\n",
        "\n",
        "for indice, numero in enumerate(lista_numeros):\n",
        "    if numero == 77:\n",
        "        lista_ocorrencias.append(indice)\n",
        "\n",
        "print(lista_ocorrencias)"
      ]
    },
    {
      "cell_type": "markdown",
      "metadata": {
        "id": "jrwycUMvWVSu"
      },
      "source": [
        "5 - Ordene a lista de forma descendente e exiba."
      ]
    },
    {
      "cell_type": "code",
      "execution_count": 11,
      "metadata": {
        "id": "RvRpLp87e5CB"
      },
      "outputs": [
        {
          "name": "stdout",
          "output_type": "stream",
          "text": [
            "[100, 99, 96, 96, 95, 95, 95, 95, 94, 93, 91, 91, 90, 89, 89, 88, 87, 86, 86, 86, 84, 84, 84, 83, 82, 80, 79, 78, 77, 77, 77, 77, 74, 74, 74, 73, 72, 71, 70, 69, 68, 67, 66, 63, 61, 58, 56, 53, 52, 52, 52, 50, 50, 49, 48, 48, 48, 46, 45, 44, 43, 42, 41, 38, 37, 37, 37, 34, 34, 33, 33, 32, 29, 28, 28, 25, 24, 23, 21, 21, 17, 17, 14, 13, 12, 11, 11, 11, 10, 9, 8, 8, 7, 5, 5, 5, 4, 2, 1, 1]\n"
          ]
        }
      ],
      "source": [
        "lista_numeros.sort()\n",
        "lista_numeros.reverse()\n",
        "print(lista_numeros)"
      ]
    },
    {
      "cell_type": "markdown",
      "metadata": {
        "id": "Be68CsC2OftE"
      },
      "source": [
        "## Tuplas:"
      ]
    },
    {
      "cell_type": "markdown",
      "metadata": {
        "id": "SQzRrAmq1SnR"
      },
      "source": [
        "Crie uma tupla com os dias da semana e peça para o usuário digitar um número de 1 a 7. Exiba o dia correspondente."
      ]
    },
    {
      "cell_type": "code",
      "execution_count": 9,
      "metadata": {
        "id": "7BqDEfeq1TZE"
      },
      "outputs": [
        {
          "data": {
            "text/plain": [
              "'segunda-feira'"
            ]
          },
          "execution_count": 9,
          "metadata": {},
          "output_type": "execute_result"
        }
      ],
      "source": [
        "dia_semana = (\"domingo\", \"segunda-feira\", \"terca-feira\", \"quarta-feira\", \"quinta-feira\", \"sexta-feira\", \"sábado\")\n",
        "\n",
        "dia = int(input(\"Digite um número de 1-7 para o dia da semana:\"))\n",
        "\n",
        "dia_semana[dia-1]"
      ]
    },
    {
      "cell_type": "markdown",
      "metadata": {
        "id": "J9LW9fru7hv6"
      },
      "source": [
        "Crie duas tuplas com números inteiros e crie uma terceira tupla com a concatenação das duas."
      ]
    },
    {
      "cell_type": "code",
      "execution_count": 11,
      "metadata": {
        "id": "J2pBsS-f7idJ"
      },
      "outputs": [
        {
          "name": "stdout",
          "output_type": "stream",
          "text": [
            "(1, 2, 3, 4, 5, 6, 7, 8, 9, 10)\n"
          ]
        }
      ],
      "source": [
        "tupla_um = (1,2,3,4,5)\n",
        "tupla_dois = (6,7,8,9,10)\n",
        "tupla_tres = tupla_um + tupla_dois\n",
        "print(tupla_tres)"
      ]
    },
    {
      "cell_type": "markdown",
      "metadata": {
        "id": "ytDz_SXB7o-8"
      },
      "source": [
        " Crie uma tupla com alguns elementos e remova um elemento específico."
      ]
    },
    {
      "cell_type": "code",
      "execution_count": 13,
      "metadata": {
        "id": "QvIAx6HP7pbh"
      },
      "outputs": [
        {
          "name": "stdout",
          "output_type": "stream",
          "text": [
            "(1, 2, 3, 5, 6, 7, 8, 9)\n"
          ]
        }
      ],
      "source": [
        "tupla_elementos = (1,2,3,4,5,6,7,8,9)\n",
        "\n",
        "x = 4\n",
        "\n",
        "nova_tupla = ()\n",
        "\n",
        "for indice, numero in enumerate(tupla_elementos):\n",
        "    if not numero == x:\n",
        "        nova_tupla = nova_tupla + (numero,)\n",
        "\n",
        "print(nova_tupla)"
      ]
    },
    {
      "cell_type": "markdown",
      "metadata": {
        "id": "v_JM0Has1pPL"
      },
      "source": [
        "#Sets"
      ]
    },
    {
      "cell_type": "markdown",
      "metadata": {
        "id": "Urrv-Y291roJ"
      },
      "source": [
        "Crie dois sets com cores diferentes e exiba na tela a união dos dois sets."
      ]
    },
    {
      "cell_type": "code",
      "execution_count": 15,
      "metadata": {
        "id": "FM4S-PEa1zSW"
      },
      "outputs": [
        {
          "name": "stdout",
          "output_type": "stream",
          "text": [
            "{'branco', 'verde', 'vermelho', 'amarelo', 'azul', 'preto'}\n"
          ]
        }
      ],
      "source": [
        "conjunto_cores1 = {'azul', 'amarelo', 'verde'}\n",
        "conjunto_cores2 = {'branco', 'preto', 'vermelho'}\n",
        "conjunto_uniao = conjunto_cores1.union(conjunto_cores2)\n",
        "print(conjunto_uniao)"
      ]
    },
    {
      "cell_type": "markdown",
      "metadata": {
        "id": "0q0tG4eG1zkL"
      },
      "source": [
        "Crie uma lista com alguns números repetidos. Converta essa lista em um set para remover as duplicatas e exiba o resultado."
      ]
    },
    {
      "cell_type": "code",
      "execution_count": 16,
      "metadata": {
        "id": "j4okoTWR2I_R"
      },
      "outputs": [
        {
          "name": "stdout",
          "output_type": "stream",
          "text": [
            "{1, 2, 3, 4, 5, 6, 7, 8, 9}\n"
          ]
        }
      ],
      "source": [
        "lista_repetidos = [1,1,2,3,4,5,5,6,7,8,9,9]\n",
        "s = set(lista_repetidos)\n",
        "print(s)"
      ]
    },
    {
      "cell_type": "markdown",
      "metadata": {
        "id": "4MCBgr-k1fvU"
      },
      "source": [
        "#Dicionários:"
      ]
    },
    {
      "cell_type": "markdown",
      "metadata": {
        "id": "0A-DeyIMPh4g"
      },
      "source": [
        " Crie um dicionário com os nomes de algumas frutas e suas respectivas cores. Exiba na tela somente as frutas que são vermelhas."
      ]
    },
    {
      "cell_type": "code",
      "execution_count": 4,
      "metadata": {
        "id": "7jlD2DV4Pjom"
      },
      "outputs": [
        {
          "name": "stdout",
          "output_type": "stream",
          "text": [
            "maça\n",
            "morango\n"
          ]
        }
      ],
      "source": [
        "frutas = {\"laranja\": \"laranja\",\n",
        "         \"maça\": \"vermelha\",\n",
        "         \"melancia\": \"verde\",\n",
        "         \"banana\": \"amarela\",\n",
        "         \"carambola\": \"amarela\",\n",
        "         \"morango\": \"vermelha\"\n",
        "        }\n",
        "\n",
        "for k, cor in frutas.items():\n",
        "    if cor == 'vermelha':\n",
        "        print(k)"
      ]
    },
    {
      "cell_type": "markdown",
      "metadata": {
        "id": "q-XV14A-PmSa"
      },
      "source": [
        "Crie um dicionário com o nome e a idade de três pessoas. Busque por  um nome e exiba a idade correspondente."
      ]
    },
    {
      "cell_type": "code",
      "execution_count": 5,
      "metadata": {
        "id": "8rPH-lzG2gvh"
      },
      "outputs": [
        {
          "name": "stdout",
          "output_type": "stream",
          "text": [
            "56\n"
          ]
        }
      ],
      "source": [
        "pessoas = {\n",
        "    \"João\": 13,\n",
        "    \"Maria\": 23,\n",
        "    \"Pedro\": 56\n",
        "}\n",
        "\n",
        "pesquisa = \"Pedro\"\n",
        "\n",
        "print(pessoas[pesquisa])"
      ]
    },
    {
      "cell_type": "markdown",
      "metadata": {
        "id": "yEn6q_MP5SdW"
      },
      "source": [
        "Crie um dicionário com os nomes e idades de algumas pessoas. Peça para o usuário digitar um nome e sua nova idade, e atualize o dicionário com essa informação."
      ]
    },
    {
      "cell_type": "code",
      "execution_count": 6,
      "metadata": {
        "id": "H-RHnfMm5TcR"
      },
      "outputs": [
        {
          "name": "stdout",
          "output_type": "stream",
          "text": [
            "{'João': 13, 'Maria': 23, 'Pedro': 56, 'José': 32}\n"
          ]
        }
      ],
      "source": [
        "novo_nome = \"José\"\n",
        "nova_idade = 32\n",
        "\n",
        "pessoas[novo_nome] = nova_idade\n",
        "\n",
        "print(pessoas)"
      ]
    },
    {
      "cell_type": "markdown",
      "metadata": {
        "id": "Jeelh1Xw2hab"
      },
      "source": [
        "Desafio Dicionários:\n",
        "\n",
        "Busque o código desenvolvido para o exercicio abaixo e altere o algoritmo para:\n",
        "\n",
        " - Salvar o resultado da eleição em um dícionário.\n",
        "\n",
        "\n",
        "Exemplo de saida do dicionario: {\"Candidato 1\": 2, \"Candidato 2\": 2, \"Voto Nulo\": 0, \"Voto Branco\": 1}\n",
        "\n",
        "\n",
        "Este exercicio foi realizado na lista da semana passada, exercicio de número 4:"
      ]
    },
    {
      "cell_type": "markdown",
      "metadata": {
        "id": "cDnoQXk83e5B"
      },
      "source": [
        "\n",
        "\"Em uma eleição presidencial existem dois candidatos. Os votos são informados através de códigos. Os dados utilizados para a contagem dos votos obedecem à seguinte codificação:\n",
        "\n",
        "1,2 = voto para os respectivos candidatos\n",
        "\n",
        "3 = voto nulo\n",
        "\n",
        "4 = voto em branco;\n",
        "\n",
        "Elabore um programa que leia o código de votação de 5 eleitores. Calcule e escreva: total de votos para cada candidato total de votos nulos total de votos em branco\""
      ]
    },
    {
      "cell_type": "code",
      "execution_count": null,
      "metadata": {
        "id": "CRlV5NE82kpE"
      },
      "outputs": [],
      "source": []
    },
    {
      "cell_type": "markdown",
      "metadata": {
        "id": "ffEKF4Kx5eQu"
      },
      "source": [
        "#Listas por Compreensão:"
      ]
    },
    {
      "cell_type": "markdown",
      "metadata": {
        "id": "IrQvRhQM5oj6"
      },
      "source": [
        "Crie uma lista com os números Impares de 1 a 20 utilizando listas por compreensão."
      ]
    },
    {
      "cell_type": "code",
      "execution_count": null,
      "metadata": {
        "id": "lqgX2B6x5fLc"
      },
      "outputs": [],
      "source": []
    },
    {
      "cell_type": "markdown",
      "metadata": {
        "id": "R2DKj08Z5tqJ"
      },
      "source": [
        "Crie uma lista com as letras da frase \"Sou estudante de dados\", utilizando listas por compreensão."
      ]
    }
  ],
  "metadata": {
    "colab": {
      "provenance": []
    },
    "kernelspec": {
      "display_name": "Python 3",
      "name": "python3"
    },
    "language_info": {
      "codemirror_mode": {
        "name": "ipython",
        "version": 3
      },
      "file_extension": ".py",
      "mimetype": "text/x-python",
      "name": "python",
      "nbconvert_exporter": "python",
      "pygments_lexer": "ipython3",
      "version": "3.11.7"
    }
  },
  "nbformat": 4,
  "nbformat_minor": 0
}
